{
 "cells": [
  {
   "cell_type": "markdown",
   "metadata": {},
   "source": [
    "# 06. Python “黑箱”：输入与输出"
   ]
  },
  {
   "cell_type": "markdown",
   "metadata": {},
   "source": [
    "## 输入输出基础\n",
    "\n",
    "最简单直接的输入来自键盘操作"
   ]
  },
  {
   "cell_type": "code",
   "execution_count": 2,
   "metadata": {},
   "outputs": [
    {
     "name": "stdout",
     "output_type": "stream",
     "text": [
      "your name:Jianhua\n",
      "you are a boy?(y/n)y\n"
     ]
    }
   ],
   "source": [
    "name = input('your name:')\n",
    "gender = input('you are a boy?(y/n)')"
   ]
  },
  {
   "cell_type": "code",
   "execution_count": 5,
   "metadata": {},
   "outputs": [
    {
     "name": "stdout",
     "output_type": "stream",
     "text": [
      "authorizing...\n",
      "Welcome to the matrix Mr. Jianhua.\n"
     ]
    }
   ],
   "source": [
    "welcome_str = 'Welcome to the matrix {prefix} {name}.'\n",
    "welcome_dic = {\n",
    "    'prefix': 'Mr.' if gender == 'y' else 'Mrs',\n",
    "    'name': name \n",
    "}\n",
    "\n",
    "print('authorizing...')\n",
    "print(welcome_str.format(**welcome_dic))"
   ]
  },
  {
   "cell_type": "markdown",
   "metadata": {},
   "source": [
    "input函数的参数即为提示语，**输入的类型永远是字符串型（str）**。注意，初学者在这里很容易犯错，下面的例子我会讲到。print() 函数则接受字符串、数字、字典、列表甚至一些自定义类的输出。"
   ]
  },
  {
   "cell_type": "code",
   "execution_count": 6,
   "metadata": {},
   "outputs": [
    {
     "name": "stdout",
     "output_type": "stream",
     "text": [
      "1\n"
     ]
    }
   ],
   "source": [
    " a = input()"
   ]
  },
  {
   "cell_type": "code",
   "execution_count": 7,
   "metadata": {},
   "outputs": [
    {
     "name": "stdout",
     "output_type": "stream",
     "text": [
      "2\n"
     ]
    }
   ],
   "source": [
    "b = input()"
   ]
  },
  {
   "cell_type": "code",
   "execution_count": 8,
   "metadata": {},
   "outputs": [
    {
     "name": "stdout",
     "output_type": "stream",
     "text": [
      "a + b = 12\n"
     ]
    }
   ],
   "source": [
    "print('a + b = {}'.format(a + b))"
   ]
  },
  {
   "cell_type": "code",
   "execution_count": 9,
   "metadata": {},
   "outputs": [
    {
     "name": "stdout",
     "output_type": "stream",
     "text": [
      "type of a is <class 'str'>, type of b is <class 'str'>\n"
     ]
    }
   ],
   "source": [
    "print('type of a is {}, type of b is {}'.format(type(a), type(b)))"
   ]
  },
  {
   "cell_type": "code",
   "execution_count": 10,
   "metadata": {},
   "outputs": [
    {
     "name": "stdout",
     "output_type": "stream",
     "text": [
      "a + b = 3\n"
     ]
    }
   ],
   "source": [
    "print('a + b = {}'.format(int(a) + int(b)))"
   ]
  },
  {
   "cell_type": "markdown",
   "metadata": {},
   "source": [
    "注意： 虽然输入输出和类型处理事情简单，但我们一定要慎之又慎。毕竟相当比例的安全漏洞，都来自随意的 I/O 处理。\n",
    "1. 在生产环境中使用强制转换时，请记得加上 try except（即错误和异常处理，专栏后面文章会讲到）。\n",
    "2. Python 对 int 类型没有最大限制（相比之下， C++ 的 int 最大为 2147483647，超过这个数字会产生溢出），但是对 float 类型依然有精度限制。这些特点，在生产环境中要时刻提防，避免因为对边界条件判断不清而造成 bug 甚至 0day（危重安全漏洞）。"
   ]
  },
  {
   "cell_type": "markdown",
   "metadata": {},
   "source": [
    "## 文件输入输出\n",
    "\n",
    "生产级别的 Python 代码，大部分 I/O 则来自于文件、网络、其他进程的消息等等\n",
    "\n",
    "我们来做一个简单的 NLP（自然语言处理）任务\n",
    "\n",
    "首先，我们要清楚 NLP 任务的基本步骤，也就是下面的四步：\n",
    "1. 读取文件；\n",
    "2. 去除所有标点符号和换行符，并把所有大写变成小写；\n",
    "3. 合并相同的词，统计每个词出现的频率，并按照词频从大到小排序；\n",
    "4. 将结果按行输出到文件 out.txt。"
   ]
  },
  {
   "cell_type": "code",
   "execution_count": 12,
   "metadata": {},
   "outputs": [],
   "source": [
    "import re \n",
    "\n",
    "def parse(text):\n",
    "    # 使用正则表达式去除标点符号和换行符\n",
    "    text = re.sub(r'[^\\w ]', ' ', text)\n",
    "    \n",
    "    # 转为小写\n",
    "    text = text.lower()\n",
    "    \n",
    "    # 生成所有单词的列表\n",
    "    word_list = text.split(' ')\n",
    "    \n",
    "    # 去除空白单词\n",
    "    word_list = filter(None, word_list)\n",
    "    \n",
    "    # 生成单词和词频的字典\n",
    "    word_cnt = {}\n",
    "    \n",
    "    for word in word_list:\n",
    "        if word not in word_cnt:\n",
    "            word_cnt[word] = 0 \n",
    "        word_cnt[word] += 1\n",
    "    \n",
    "    # 按照词频排序\n",
    "    sorted_word_cnt = sorted(word_cnt.items(), key=lambda kv: kv[1], reverse=True)\n",
    "    \n",
    "    return sorted_word_cnt\n",
    "    \n",
    "\n",
    "with open('in.txt', 'r') as fin:\n",
    "    text = fin.read()\n",
    "    \n",
    "word_and_freq = parse(text)\n",
    "\n",
    "with open('out.txt', 'w') as fout:\n",
    "    for word, freq in word_and_freq:\n",
    "        fout.write('{} {}\\n'.format(word, freq))"
   ]
  },
  {
   "cell_type": "markdown",
   "metadata": {},
   "source": [
    "计算机中文件访问的基础知识\n",
    "\n",
    "1. 先要用 open() 函数拿到文件的指针(fin)。其中，\n",
    "- 第一个参数指定文件位置（相对位置或者绝对位置）；\n",
    "- 第二个参数，如果是 'r'表示读取，如果是'w' 则表示写入，当然也可以用 'rw' ，表示读写都要。a 则是一个不太常用（但也很有用）的参数，表示追加（append），这样打开的文件，如果需要写入，会从原始文件的最末尾开始写入。\n",
    "\n",
    "注意：在工作中，代码权限管理非常重要。如果你只需要读取文件，就不要请求写入权限。这样在某种程度上可以降低 bug 对整个系统带来的风险。\n",
    "\n",
    "2. 在拿到指针后，我们可以通过 read() 函数，来读取文件的全部内容。代码 text = fin.read() ，即表示把文件所有内容读取到内存中，并赋值给变量 text。这么做自然也是有利有弊：\n",
    "     - 优点是方便，接下来我们可以很方便地调用 parse 函数进行分析；\n",
    "     - 缺点是如果文件过大，一次性读取可能造成内存崩溃。这时，我们可以给 read 指定参数 size ，用来表示读取的最大长度。还可以通过 readline() 函数，每次读取一行，这种做法常用于数据挖掘（Data Mining）中的数据清洗\n",
    "     \n",
    "3. open() 函数对应于 close() 函数，打开了文件，在完成读取任务后，就应该立刻关掉它。而如果你使用了 with 语句，就不需要显式调用 close()\n",
    "\n",
    "4. 所有 I/O 都应该进行错误处理。因为 I/O 操作可能会有各种各样的情况出现，而一个健壮（robust）的程序，需要能应对各种情况的发生，而不应该崩溃"
   ]
  },
  {
   "cell_type": "markdown",
   "metadata": {},
   "source": [
    "## JSON序列化与实战\n",
    "\n",
    "JSON，可以把它简单地理解为两种黑箱：\n",
    "- 第一种，输入这些杂七杂八的信息，比如 Python 字典，输出一个字符串；\n",
    "- 第二种，输入这个字符串，可以输出包含原始信息的 Python 字典。"
   ]
  },
  {
   "cell_type": "code",
   "execution_count": 13,
   "metadata": {},
   "outputs": [],
   "source": [
    "import json\n",
    "\n",
    "params = {'symbol': '123456', 'type': 'limit', 'price': 123.4, 'amount': 23}"
   ]
  },
  {
   "cell_type": "code",
   "execution_count": 14,
   "metadata": {},
   "outputs": [
    {
     "name": "stdout",
     "output_type": "stream",
     "text": [
      "after json serialization\n",
      "type of params_str = <class 'str'>, params_str = {'symbol': '123456', 'type': 'limit', 'price': 123.4, 'amount': 23}\n"
     ]
    }
   ],
   "source": [
    "params_str = json.dumps(params)\n",
    "\n",
    "print('after json serialization')\n",
    "print('type of params_str = {}, params_str = {}'.format(type(params_str), params))"
   ]
  },
  {
   "cell_type": "code",
   "execution_count": 15,
   "metadata": {},
   "outputs": [
    {
     "name": "stdout",
     "output_type": "stream",
     "text": [
      "after json deserialization\n",
      "type of original_params = <class 'dict'>, original_params = {'symbol': '123456', 'type': 'limit', 'price': 123.4, 'amount': 23}\n"
     ]
    }
   ],
   "source": [
    "original_params = json.loads(params_str)\n",
    "\n",
    "print('after json deserialization')\n",
    "print('type of original_params = {}, original_params = {}'.format(type(original_params), original_params))"
   ]
  },
  {
   "cell_type": "code",
   "execution_count": 16,
   "metadata": {},
   "outputs": [
    {
     "data": {
      "text/plain": [
       "'{\"symbol\": \"123456\", \"type\": \"limit\", \"price\": 123.4, \"amount\": 23}'"
      ]
     },
     "execution_count": 16,
     "metadata": {},
     "output_type": "execute_result"
    }
   ],
   "source": [
    "params_str"
   ]
  },
  {
   "cell_type": "code",
   "execution_count": 17,
   "metadata": {},
   "outputs": [
    {
     "data": {
      "text/plain": [
       "{'symbol': '123456', 'type': 'limit', 'price': 123.4, 'amount': 23}"
      ]
     },
     "execution_count": 17,
     "metadata": {},
     "output_type": "execute_result"
    }
   ],
   "source": [
    "original_params"
   ]
  },
  {
   "cell_type": "markdown",
   "metadata": {},
   "source": [
    "1. json.dumps() 这个函数，接受 Python 的基本数据类型，然后将其序列化为 string；\n",
    "2. 而 json.loads() 这个函数，接受一个合法字符串，然后将其反序列化为 Python 的基本数据类型。\n",
    "\n",
    "如果我要输出字符串到文件，或者从文件中读取 JSON 字符串，又该怎么办呢？"
   ]
  },
  {
   "cell_type": "code",
   "execution_count": 18,
   "metadata": {},
   "outputs": [
    {
     "name": "stdout",
     "output_type": "stream",
     "text": [
      "after json deserialization\n",
      "type of original_params = <class 'dict'>, original_params = {'symbol': '123456', 'type': 'limit', 'price': 123.4, 'amount': 23}\n"
     ]
    }
   ],
   "source": [
    "import json\n",
    "\n",
    "params = { 'symbol': '123456', 'type': 'limit', 'price': 123.4, 'amount': 23}\n",
    "\n",
    "with open('params.json', 'w') as fout: \n",
    "    params_str = json.dump(params, fout)\n",
    "    \n",
    "with open('params.json', 'r') as fin: \n",
    "    original_params = json.load(fin)\n",
    "    \n",
    "print('after json deserialization')\n",
    "print('type of original_params = {}, original_params = {}'.format(type(original_params), original_params))"
   ]
  },
  {
   "cell_type": "markdown",
   "metadata": {},
   "source": [
    "当开发一个第三方应用程序时，你可以通过 JSON 将用户的个人配置输出到文件，方便下次程序启动时自动读取。这也是现在普遍运用的成熟做法。\n",
    "\n",
    "在 Google，有类似的工具叫做 Protocol Buffer. 相比于 JSON，它的优点是生成优化后的二进制文件，因此性能更好。但与此同时，生成的二进制序列，是不能直接阅读的。它在 TensorFlow 等很多对性能有要求的系统中都有广泛的应用。"
   ]
  },
  {
   "cell_type": "markdown",
   "metadata": {},
   "source": [
    "## 总结\n",
    "\n",
    "我们主要学习了 Python 的普通 I/O 和文件 I/O，同时了解了 JSON 序列化的基本知识，并通过具体的例子进一步掌握。再次强调一下需要注意的几点：\n",
    "\n",
    "1. I/O 操作需谨慎，一定要进行充分的错误处理，并细心编码，防止出现编码漏洞；\n",
    "2. 编码时，对内存占用和磁盘占用要有充分的估计，这样在出错时可以更容易找到原因；\n",
    "3. JSON 序列化是很方便的工具，要结合实战多多练习；\n",
    "4. 代码尽量简洁、清晰，哪怕是初学阶段，也要有一颗当元帅的心。"
   ]
  },
  {
   "cell_type": "markdown",
   "metadata": {},
   "source": [
    "## 思考题\n",
    "\n",
    "最后，我给你留了两道思考题。\n",
    "\n",
    "1. 第一问：你能否把 NLP 例子中的 word count 实现一遍？不过这次，in.txt 可能非常非常大（意味着你不能一次读取到内存中），而 output.txt 不会很大（意味着重复的单词数量很多）。提示：你可能需要每次读取一定长度的字符串，进行处理，然后再读取下一次的。但是如果单纯按照长度划分，你可能会把一个单词隔断开，所以需要细心处理这种边界情况。\n",
    "\n",
    "2. 第二问：你应该使用过类似百度网盘、Dropbox 等网盘，但是它们可能空间有限（比如 5GB）。如果有一天，你计划把家里的 100GB 数据传送到公司，可惜你没带 U 盘，于是你想了一个主意：每次从家里向 Dropbox 网盘写入不超过 5GB 的数据，而公司电脑一旦侦测到新数据，就立即拷贝到本地，然后删除网盘上的数据。等家里电脑侦测到本次数据全部传入公司电脑后，再进行下一次写入，直到所有数据都传输过去。"
   ]
  },
  {
   "cell_type": "code",
   "execution_count": 20,
   "metadata": {},
   "outputs": [
    {
     "name": "stdout",
     "output_type": "stream",
     "text": [
      "defaultdict(<class 'int'>, {'I': 5, 'have': 5, 'a': 8, 'dream': 5, 'that': 5, 'my': 1, 'four': 1, 'little': 3, 'children': 1, 'will': 11, 'one': 5, 'day': 5, 'live': 1, 'in': 4, 'nation': 2, 'where': 1, 'they': 1, 'not': 1, 'be': 13, 'judged': 1, 'by': 2, 'the': 10, 'color': 1, 'of': 10, 'their': 2, 'skin': 1, 'but': 1, 'content': 1, 'character.': 1, 'today.': 2, 'down': 1, 'Alabama,': 1, 'with': 2, 'its': 1, 'vicious': 1, 'racists,': 1, '.': 8, 'right': 1, 'there': 1, 'Alabama': 1, 'black': 3, 'boys': 2, 'and': 14, 'girls': 2, 'able': 6, 'to': 11, 'join': 2, 'hands': 2, 'white': 3, 'as': 1, 'sisters': 1, 'brothers.': 1, 'every': 6, 'valley': 1, 'shall': 4, 'exalted,': 1, 'hill': 1, 'mountain': 2, 'made': 3, 'low,': 1, 'rough': 1, 'places': 2, 'plain,': 1, 'crooked': 1, 'straight,': 1, 'glory': 1, 'Lord': 1, 'revealed,': 1, 'all': 2, 'flesh': 1, 'see': 1, 'it': 2, 'together.': 1, 'This': 1, 'is': 1, 'our': 2, 'hope.': 2, 'With': 3, 'this': 4, 'faith': 3, 'we': 8, 'hew': 1, 'out': 1, 'despair': 1, 'stone': 1, 'transform': 1, 'jangling': 1, 'discords': 1, 'into': 1, 'beautiful': 1, 'symphony': 1, 'brotherhood.': 1, 'work': 1, 'together,': 5, 'pray': 1, 'struggle': 1, 'go': 1, 'jail': 1, 'stand': 1, 'up': 2, 'for': 1, 'freedom': 2, 'knowing': 1, 'free': 2, 'day.': 1, 'And': 1, 'when': 4, 'happens,': 1, 'allow': 1, 'ring,': 1, 'let': 1, 'ring': 1, 'from': 2, 'village': 1, 'hamlet,': 1, 'state': 1, 'city,': 1, 'speed': 1, \"God's\": 1, 'children,': 1, 'men': 1, 'men,': 1, 'Jews': 1, 'Gentiles,': 1, 'Protestants': 1, 'Catholics,': 1, 'sing': 1, 'words': 1, 'old': 1, 'Negro': 1, 'spiritual:': 1, '\"Free': 1, 'at': 3, 'last!': 2, 'Free': 1, 'Thank': 1, 'God': 1, 'Almighty,': 1, 'are': 1, 'last!\"': 1})\n"
     ]
    }
   ],
   "source": [
    "# ’不瘦到140不改名‘回复\n",
    "from collections import defaultdict\n",
    "import re\n",
    "\n",
    "f = open(\"in.txt\", mode=\"r\", encoding=\"utf-8\")\n",
    "d = defaultdict(int)\n",
    "\n",
    "for line in f:\n",
    "    for word in filter(lambda x: x, re.split(r\"\\s\", line)):\n",
    "        d[word] += 1\n",
    "\n",
    "\n",
    "print(d)"
   ]
  },
  {
   "cell_type": "code",
   "execution_count": 23,
   "metadata": {},
   "outputs": [
    {
     "name": "stdout",
     "output_type": "stream",
     "text": [
      "defaultdict(<function <lambda> at 0x1166eeea0>, {'i': 5, 'have': 5, 'a': 8, 'dream': 5, 'that': 5, 'my': 1, 'four': 1, 'little': 3, 'children': 2, 'will': 11, 'one': 5, 'day': 6, 'live': 1, 'in': 4, 'nation': 2, 'where': 1, 'they': 1, 'not': 1, 'be': 13, 'judged': 1, 'by': 2, 'the': 10, 'color': 1, 'of': 10, 'their': 2, 'skin': 1, 'but': 1, 'content': 1, 'character': 1, 'today': 2, 'down': 1, 'alabama': 2, 'with': 5, 'its': 1, 'vicious': 1, 'racists': 1, 'right': 1, 'there': 1, 'black': 3, 'boys': 2, 'and': 15, 'girls': 2, 'able': 6, 'to': 11, 'join': 2, 'hands': 2, 'white': 3, 'as': 1, 'sisters': 1, 'brothers': 1, 'every': 6, 'valley': 1, 'shall': 4, 'exalted': 1, 'hill': 1, 'mountain': 2, 'made': 3, 'low': 1, 'rough': 1, 'places': 2, 'plain': 1, 'crooked': 1, 'straight': 1, 'glory': 1, 'lord': 1, 'revealed': 1, 'all': 2, 'flesh': 1, 'see': 1, 'it': 2, 'together': 6, 'this': 5, 'is': 1, 'our': 2, 'hope': 2, 'faith': 3, 'we': 8, 'hew': 1, 'out': 1, 'despair': 1, 'stone': 1, 'transform': 1, 'jangling': 1, 'discords': 1, 'into': 1, 'beautiful': 1, 'symphony': 1, 'brotherhood': 1, 'work': 1, 'pray': 1, 'struggle': 1, 'go': 1, 'jail': 1, 'stand': 1, 'up': 2, 'for': 1, 'freedom': 2, 'knowing': 1, 'free': 4, 'when': 4, 'happens': 1, 'allow': 1, 'ring': 2, 'let': 1, 'from': 2, 'village': 1, 'hamlet': 1, 'state': 1, 'city': 1, 'speed': 1, 'god': 2, 's': 1, 'men': 2, 'jews': 1, 'gentiles': 1, 'protestants': 1, 'catholics': 1, 'sing': 1, 'words': 1, 'old': 1, 'negro': 1, 'spiritual': 1, 'at': 3, 'last': 3, 'thank': 1, 'almighty': 1, 'are': 1})\n"
     ]
    }
   ],
   "source": [
    "# ’Geek_59f23e‘回复\n",
    "# 第一题：\n",
    "# 1、使用defaultdict初始化计数器更方便更快，不用再多做一步in判断，parse函数只需返回filter对象。\n",
    "\n",
    "# 2、读取大文件时使用for循环遍历迭代器，不占用内存空间，生成一行处理一行，\n",
    "# 就此例来说每一行行尾都是\\n没有跨行单词，故此方法不用考虑边界问题，因文件中有多行\\n，读取时做一步判断跳过避免再调用parse函数。\n",
    "\n",
    "import re \n",
    "\n",
    "def parse(text):\n",
    "    # 使用正则表达式去除标点符号和换行符\n",
    "    text = re.sub(r'[^\\w ]', ' ', text)\n",
    "    \n",
    "    # 转为小写\n",
    "    text = text.lower()\n",
    "    \n",
    "    # 生成所有单词的列表\n",
    "    word_list = text.split(' ')\n",
    "    \n",
    "    # 去除空白单词\n",
    "    word_list = filter(None, word_list)\n",
    "    \n",
    "    return word_list\n",
    "\n",
    "word_cnt = defaultdict(lambda: 0)\n",
    "\n",
    "with open('in.txt', 'r') as fin:\n",
    "    for line in fin:\n",
    "        if line != '\\n':\n",
    "            for word in parse(line):\n",
    "                word_cnt[word] += 1\n",
    "                \n",
    "print(word_cnt)"
   ]
  },
  {
   "cell_type": "code",
   "execution_count": null,
   "metadata": {},
   "outputs": [],
   "source": []
  }
 ],
 "metadata": {
  "kernelspec": {
   "display_name": "Python 3",
   "language": "python",
   "name": "python3"
  },
  "language_info": {
   "codemirror_mode": {
    "name": "ipython",
    "version": 3
   },
   "file_extension": ".py",
   "mimetype": "text/x-python",
   "name": "python",
   "nbconvert_exporter": "python",
   "pygments_lexer": "ipython3",
   "version": "3.6.9"
  }
 },
 "nbformat": 4,
 "nbformat_minor": 4
}
