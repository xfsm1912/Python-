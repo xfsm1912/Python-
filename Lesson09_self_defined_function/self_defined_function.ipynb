{
 "cells": [
  {
   "cell_type": "markdown",
   "metadata": {},
   "source": [
    "## 09.不可或缺的自定义函数\n",
    "\n",
    "一个规范的值得借鉴的 Python 程序，除非代码量很少（比如 10 行、20 行以下），基本都应该由多个函数组成，这样的代码才更加模块化、规范化。\n",
    "\n",
    "\n",
    "## 函数基础\n",
    "\n",
    "函数就是为了实现某一功能的代码段，只要写好以后，就可以重复利用。我们先来看下面一个简单的例子:"
   ]
  },
  {
   "cell_type": "code",
   "execution_count": null,
   "metadata": {},
   "outputs": [],
   "source": [
    "\n",
    "def my_func(message):\n",
    "    print('Got a message: {}'.format(message))\n",
    "\n",
    "# 调用函数 my_func()\n",
    "my_func('Hello World')\n",
    "# 输出\n",
    "Got a message: Hello World"
   ]
  },
  {
   "cell_type": "markdown",
   "metadata": {},
   "source": [
    "其中：\n",
    "- def 是函数的声明；\n",
    "- my_func 是函数的名称；                    \n",
    "- 括号里面的 message 则是函数的参数；\n",
    "- 而 print 那行则是函数的主体部分，可以执行相应的语句；\n",
    "- 在函数最后，你可以返回调用结果（return 或 yield），也可以不返回。"
   ]
  },
  {
   "cell_type": "code",
   "execution_count": null,
   "metadata": {},
   "outputs": [],
   "source": [
    "# 大概是如下形式\n",
    "def name(param1, param2, ..., paramN):\n",
    "    statements\n",
    "    return/yield value # optional"
   ]
  },
  {
   "cell_type": "markdown",
   "metadata": {},
   "source": [
    "和其他需要编译的语言（比如 C 语言）不一样的是，def 是可执行语句，这意味着函数直到被调用前，都是不存在的。当程序调用函数时，def 语句才会创建一个新的函数对象，并赋予其名字。"
   ]
  },
  {
   "cell_type": "code",
   "execution_count": 1,
   "metadata": {},
   "outputs": [
    {
     "name": "stdout",
     "output_type": "stream",
     "text": [
      "8\n"
     ]
    },
    {
     "data": {
      "text/plain": [
       "8"
      ]
     },
     "execution_count": 1,
     "metadata": {},
     "output_type": "execute_result"
    }
   ],
   "source": [
    "\n",
    "def my_sum(a, b):\n",
    "    return a + b\n",
    "\n",
    "result = my_sum(3, 5)\n",
    "print(result)\n",
    "\n",
    "# 输出\n",
    "8"
   ]
  },
  {
   "cell_type": "markdown",
   "metadata": {},
   "source": [
    "另一个函数例子，寻找列表最大元素"
   ]
  },
  {
   "cell_type": "code",
   "execution_count": 2,
   "metadata": {},
   "outputs": [
    {
     "name": "stdout",
     "output_type": "stream",
     "text": [
      "largest element is: 8\n"
     ]
    }
   ],
   "source": [
    "def find_largest_element(l):\n",
    "    if not isinstance(l, list):\n",
    "        print('input is not type of list')\n",
    "        return \n",
    "    if len(l) == 0:\n",
    "        print('empty input')\n",
    "        return \n",
    "    largest_element = l[0]\n",
    "    for item in l:\n",
    "        if item > largest_element:\n",
    "            largest_element = item\n",
    "    print('largest element is: {}'.format(largest_element))\n",
    "            \n",
    "find_largest_element([8, 1, -3, 2, 0])\n"
   ]
  },
  {
   "cell_type": "markdown",
   "metadata": {},
   "source": [
    "注意，主程序调用函数时，必须保证这个函数此前已经定义过"
   ]
  },
  {
   "cell_type": "code",
   "execution_count": 3,
   "metadata": {},
   "outputs": [
    {
     "ename": "NameError",
     "evalue": "name 'my_func' is not defined",
     "output_type": "error",
     "traceback": [
      "\u001b[0;31m---------------------------------------------------------------------------\u001b[0m",
      "\u001b[0;31mNameError\u001b[0m                                 Traceback (most recent call last)",
      "\u001b[0;32m<ipython-input-3-834edc8c8ba2>\u001b[0m in \u001b[0;36m<module>\u001b[0;34m\u001b[0m\n\u001b[0;32m----> 1\u001b[0;31m \u001b[0mmy_func\u001b[0m\u001b[0;34m(\u001b[0m\u001b[0;34m'hello world'\u001b[0m\u001b[0;34m)\u001b[0m\u001b[0;34m\u001b[0m\u001b[0;34m\u001b[0m\u001b[0m\n\u001b[0m\u001b[1;32m      2\u001b[0m \u001b[0;32mdef\u001b[0m \u001b[0mmy_func\u001b[0m\u001b[0;34m(\u001b[0m\u001b[0mmessage\u001b[0m\u001b[0;34m)\u001b[0m\u001b[0;34m:\u001b[0m\u001b[0;34m\u001b[0m\u001b[0;34m\u001b[0m\u001b[0m\n\u001b[1;32m      3\u001b[0m     \u001b[0mprint\u001b[0m\u001b[0;34m(\u001b[0m\u001b[0;34m'Got a message: {}'\u001b[0m\u001b[0;34m.\u001b[0m\u001b[0mformat\u001b[0m\u001b[0;34m(\u001b[0m\u001b[0mmessage\u001b[0m\u001b[0;34m)\u001b[0m\u001b[0;34m)\u001b[0m\u001b[0;34m\u001b[0m\u001b[0;34m\u001b[0m\u001b[0m\n\u001b[1;32m      4\u001b[0m \u001b[0;34m\u001b[0m\u001b[0m\n\u001b[1;32m      5\u001b[0m \u001b[0;31m# 输出\u001b[0m\u001b[0;34m\u001b[0m\u001b[0;34m\u001b[0m\u001b[0;34m\u001b[0m\u001b[0m\n",
      "\u001b[0;31mNameError\u001b[0m: name 'my_func' is not defined"
     ]
    }
   ],
   "source": [
    "my_func('hello world')\n",
    "def my_func(message):\n",
    "    print('Got a message: {}'.format(message))\n",
    "    \n",
    "# 输出\n",
    "# NameError: name 'my_func' is not defined"
   ]
  },
  {
   "cell_type": "markdown",
   "metadata": {},
   "source": [
    "如果我们在函数内部调用其他函数，函数间哪个声明在前、哪个在后就无所谓，因为 def 是可执行语句，函数在调用之前都不存在，我们只需保证调用时，所需的函数都已经声明定义："
   ]
  },
  {
   "cell_type": "code",
   "execution_count": 4,
   "metadata": {},
   "outputs": [
    {
     "name": "stdout",
     "output_type": "stream",
     "text": [
      "Got a message: hello world\n"
     ]
    }
   ],
   "source": [
    "def my_func(message):\n",
    "    my_sub_func(message) # 调用my_sub_func()在其声明之前不影响程序执行\n",
    "    \n",
    "def my_sub_func(message):\n",
    "    print('Got a message: {}'.format(message))\n",
    "\n",
    "my_func('hello world')\n",
    "\n",
    "# 输出\n",
    "# Got a message: hello world"
   ]
  },
  {
   "cell_type": "markdown",
   "metadata": {},
   "source": [
    "Python 函数的参数可以设定默认值"
   ]
  },
  {
   "cell_type": "code",
   "execution_count": null,
   "metadata": {},
   "outputs": [],
   "source": [
    "def func(param = 0):\n",
    "    ..."
   ]
  },
  {
   "cell_type": "markdown",
   "metadata": {},
   "source": [
    "在调用函数 func() 时，如果参数 param 没有传入，则参数默认为 0；而如果传入了参数 param，其就会覆盖默认值。"
   ]
  },
  {
   "cell_type": "markdown",
   "metadata": {},
   "source": [
    "Python 和其他语言相比的一些特点是，\n",
    "1. Python 是 dynamically typed 的，可以接受任何数据类型（整型，浮点，字符串等等）。对函数参数来说，这一点同样适用。比如还是刚刚的 my_sum 函数，我们也可以把列表作为参数来传递，表示将两个列表相连接："
   ]
  },
  {
   "cell_type": "code",
   "execution_count": 5,
   "metadata": {},
   "outputs": [
    {
     "name": "stdout",
     "output_type": "stream",
     "text": [
      "[1, 2, 3, 4]\n"
     ]
    }
   ],
   "source": [
    "\n",
    "print(my_sum([1, 2], [3, 4]))\n",
    "\n",
    "# 输出\n",
    "# [1, 2, 3, 4]"
   ]
  },
  {
   "cell_type": "code",
   "execution_count": 6,
   "metadata": {},
   "outputs": [
    {
     "name": "stdout",
     "output_type": "stream",
     "text": [
      "hello world\n"
     ]
    }
   ],
   "source": [
    "\n",
    "print(my_sum('hello ', 'world'))\n",
    "\n",
    "# 输出\n",
    "# hello world"
   ]
  },
  {
   "cell_type": "markdown",
   "metadata": {},
   "source": [
    "如果两个参数的数据类型不同，比如一个是列表、一个是字符串，两者无法相加，那就会报错："
   ]
  },
  {
   "cell_type": "code",
   "execution_count": 7,
   "metadata": {},
   "outputs": [
    {
     "ename": "TypeError",
     "evalue": "can only concatenate list (not \"str\") to list",
     "output_type": "error",
     "traceback": [
      "\u001b[0;31m---------------------------------------------------------------------------\u001b[0m",
      "\u001b[0;31mTypeError\u001b[0m                                 Traceback (most recent call last)",
      "\u001b[0;32m<ipython-input-7-ae083d5a6197>\u001b[0m in \u001b[0;36m<module>\u001b[0;34m\u001b[0m\n\u001b[0;32m----> 1\u001b[0;31m \u001b[0mprint\u001b[0m\u001b[0;34m(\u001b[0m\u001b[0mmy_sum\u001b[0m\u001b[0;34m(\u001b[0m\u001b[0;34m[\u001b[0m\u001b[0;36m1\u001b[0m\u001b[0;34m,\u001b[0m \u001b[0;36m2\u001b[0m\u001b[0;34m]\u001b[0m\u001b[0;34m,\u001b[0m \u001b[0;34m'hello'\u001b[0m\u001b[0;34m)\u001b[0m\u001b[0;34m)\u001b[0m\u001b[0;34m\u001b[0m\u001b[0;34m\u001b[0m\u001b[0m\n\u001b[0m\u001b[1;32m      2\u001b[0m \u001b[0;31m# TypeError: can only concatenate list (not \"str\") to list\u001b[0m\u001b[0;34m\u001b[0m\u001b[0;34m\u001b[0m\u001b[0;34m\u001b[0m\u001b[0m\n",
      "\u001b[0;32m<ipython-input-1-0fa05e27dafb>\u001b[0m in \u001b[0;36mmy_sum\u001b[0;34m(a, b)\u001b[0m\n\u001b[1;32m      1\u001b[0m \u001b[0;32mdef\u001b[0m \u001b[0mmy_sum\u001b[0m\u001b[0;34m(\u001b[0m\u001b[0ma\u001b[0m\u001b[0;34m,\u001b[0m \u001b[0mb\u001b[0m\u001b[0;34m)\u001b[0m\u001b[0;34m:\u001b[0m\u001b[0;34m\u001b[0m\u001b[0;34m\u001b[0m\u001b[0m\n\u001b[0;32m----> 2\u001b[0;31m     \u001b[0;32mreturn\u001b[0m \u001b[0ma\u001b[0m \u001b[0;34m+\u001b[0m \u001b[0mb\u001b[0m\u001b[0;34m\u001b[0m\u001b[0;34m\u001b[0m\u001b[0m\n\u001b[0m\u001b[1;32m      3\u001b[0m \u001b[0;34m\u001b[0m\u001b[0m\n\u001b[1;32m      4\u001b[0m \u001b[0mresult\u001b[0m \u001b[0;34m=\u001b[0m \u001b[0mmy_sum\u001b[0m\u001b[0;34m(\u001b[0m\u001b[0;36m3\u001b[0m\u001b[0;34m,\u001b[0m \u001b[0;36m5\u001b[0m\u001b[0;34m)\u001b[0m\u001b[0;34m\u001b[0m\u001b[0;34m\u001b[0m\u001b[0m\n\u001b[1;32m      5\u001b[0m \u001b[0mprint\u001b[0m\u001b[0;34m(\u001b[0m\u001b[0mresult\u001b[0m\u001b[0;34m)\u001b[0m\u001b[0;34m\u001b[0m\u001b[0;34m\u001b[0m\u001b[0m\n",
      "\u001b[0;31mTypeError\u001b[0m: can only concatenate list (not \"str\") to list"
     ]
    }
   ],
   "source": [
    "\n",
    "print(my_sum([1, 2], 'hello'))\n",
    "# TypeError: can only concatenate list (not \"str\") to list"
   ]
  },
  {
   "cell_type": "markdown",
   "metadata": {},
   "source": [
    "Python 不用考虑输入的数据类型，而是将其交给具体的代码去判断执行，同样的一个函数（比如这边的相加函数 my_sum()），可以同时应用在整型、列表、字符串等等的操作中。在编程语言中，我们把这种行为称为多态。这也是 Python 和其他语言，比如 Java、C 等很大的一个不同点。\n",
    "\n",
    "2. Python 函数的另一大特性，是 Python 支持函数的嵌套。所谓的函数嵌套，就是指函数里面又有函数"
   ]
  },
  {
   "cell_type": "code",
   "execution_count": 8,
   "metadata": {},
   "outputs": [
    {
     "name": "stdout",
     "output_type": "stream",
     "text": [
      "hello\n",
      "world\n"
     ]
    }
   ],
   "source": [
    "def f1():\n",
    "    print('hello')\n",
    "    def f2():\n",
    "        print('world')\n",
    "    f2()\n",
    "f1()"
   ]
  },
  {
   "cell_type": "markdown",
   "metadata": {},
   "source": [
    "函数的嵌套，主要有下面两个方面的作用:\n",
    "1. 第一，函数的嵌套能够保证内部函数的隐私。内部函数只能被外部函数所调用和访问，不会暴露在全局作用域，因此，如果你的函数内部有一些隐私数据（比如数据库的用户、密码等），不想暴露在外，那你就可以使用函数的的嵌套，将其封装在内部函数中，只通过外部函数来访问。"
   ]
  },
  {
   "cell_type": "code",
   "execution_count": null,
   "metadata": {},
   "outputs": [],
   "source": [
    "def connect_DB():\n",
    "    def get_DB_configuration():\n",
    "        ...\n",
    "        return host, username, password\n",
    "    conn = connector.connect(get_DB_configuration())\n",
    "    return conn "
   ]
  },
  {
   "cell_type": "markdown",
   "metadata": {},
   "source": [
    "这里的函数 get_DB_configuration，便是内部函数，它无法在 connect_DB() 函数以外被单独调用. 我们只能通过调用外部函数 connect_DB() 来访问它，这样一来，程序的安全性便有了很大的提高.\n",
    "\n",
    "2. 第二，合理的使用函数嵌套，能够提高程序的运行效率。"
   ]
  },
  {
   "cell_type": "code",
   "execution_count": 9,
   "metadata": {},
   "outputs": [
    {
     "name": "stdout",
     "output_type": "stream",
     "text": [
      "120\n"
     ]
    }
   ],
   "source": [
    "def factorial(input):\n",
    "    # validation check\n",
    "    if not isinstance(input, int):\n",
    "        raise Exception('input must be an integer.')\n",
    "    if input < 0:\n",
    "        raise Exception('input must be greater or equal to 0')\n",
    "        \n",
    "    def inner_factorial(input):\n",
    "        if input < 1:\n",
    "            return 1 \n",
    "        return input * inner_factorial(input-1)\n",
    "    return inner_factorial(input)\n",
    "\n",
    "print(factorial(5))"
   ]
  },
  {
   "cell_type": "markdown",
   "metadata": {},
   "source": [
    "我们使用递归的方式计算一个数的阶乘。**因为在计算之前，需要检查输入是否合法**，所以我写成了函数嵌套的形式，这样一来，输入是否合法就只用检查一次。**而如果我们不使用函数嵌套，那么每调用一次递归便会检查一次**，这是没有必要的，也会降低程序的运行效率。\n",
    "\n",
    "## 函数变量作用域\n",
    "\n",
    "如果变量是在函数内部定义的，就称为局部变量，只在函数内部有效。一旦函数执行完毕，局部变量就会被回收，无法访问"
   ]
  },
  {
   "cell_type": "code",
   "execution_count": null,
   "metadata": {},
   "outputs": [],
   "source": [
    "def read_text_file(file_path):\n",
    "    with open(file_path) as file:\n",
    "        ..."
   ]
  },
  {
   "cell_type": "markdown",
   "metadata": {},
   "source": [
    "我们在函数内部定义了 file 这个变量，这个变量只在 read_text_from_file 这个函数里有效，在函数外部则无法访问。\n",
    "\n",
    "相对应的，全局变量则是定义在整个文件层次上的。"
   ]
  },
  {
   "cell_type": "code",
   "execution_count": 10,
   "metadata": {},
   "outputs": [],
   "source": [
    "MIN_VALUE = 1\n",
    "MAX_VALUE = 10 \n",
    "\n",
    "def validation_check(value):\n",
    "    if value < MIN_VALUE or value > MAX_VALUE:\n",
    "        raise Exception('validation check fails')"
   ]
  },
  {
   "cell_type": "markdown",
   "metadata": {},
   "source": [
    "这里的 MIN_VALUE 和 MAX_VALUE 就是全局变量，可以在文件内的任何地方被访问，当然在函数内部也是可以的。**不过，我们不能在函数内部随意改变全局变量的值。**"
   ]
  },
  {
   "cell_type": "code",
   "execution_count": 11,
   "metadata": {},
   "outputs": [
    {
     "ename": "UnboundLocalError",
     "evalue": "local variable 'MIN_VALUE' referenced before assignment",
     "output_type": "error",
     "traceback": [
      "\u001b[0;31m---------------------------------------------------------------------------\u001b[0m",
      "\u001b[0;31mUnboundLocalError\u001b[0m                         Traceback (most recent call last)",
      "\u001b[0;32m<ipython-input-11-305b9ddf39ef>\u001b[0m in \u001b[0;36m<module>\u001b[0;34m\u001b[0m\n\u001b[1;32m      8\u001b[0m     \u001b[0mprint\u001b[0m\u001b[0;34m(\u001b[0m\u001b[0mvalue\u001b[0m\u001b[0;34m)\u001b[0m\u001b[0;34m\u001b[0m\u001b[0;34m\u001b[0m\u001b[0m\n\u001b[1;32m      9\u001b[0m \u001b[0;34m\u001b[0m\u001b[0m\n\u001b[0;32m---> 10\u001b[0;31m \u001b[0mvalidation_check\u001b[0m\u001b[0;34m(\u001b[0m\u001b[0;36m5\u001b[0m\u001b[0;34m)\u001b[0m\u001b[0;34m\u001b[0m\u001b[0;34m\u001b[0m\u001b[0m\n\u001b[0m",
      "\u001b[0;32m<ipython-input-11-305b9ddf39ef>\u001b[0m in \u001b[0;36mvalidation_check\u001b[0;34m(value)\u001b[0m\n\u001b[1;32m      2\u001b[0m \u001b[0mMAX_VALUE\u001b[0m \u001b[0;34m=\u001b[0m \u001b[0;36m10\u001b[0m\u001b[0;34m\u001b[0m\u001b[0;34m\u001b[0m\u001b[0m\n\u001b[1;32m      3\u001b[0m \u001b[0;32mdef\u001b[0m \u001b[0mvalidation_check\u001b[0m\u001b[0;34m(\u001b[0m\u001b[0mvalue\u001b[0m\u001b[0;34m)\u001b[0m\u001b[0;34m:\u001b[0m\u001b[0;34m\u001b[0m\u001b[0;34m\u001b[0m\u001b[0m\n\u001b[0;32m----> 4\u001b[0;31m     \u001b[0;32mif\u001b[0m \u001b[0mvalue\u001b[0m \u001b[0;34m<\u001b[0m \u001b[0mMIN_VALUE\u001b[0m \u001b[0;32mor\u001b[0m \u001b[0mvalue\u001b[0m \u001b[0;34m>\u001b[0m \u001b[0mMAX_VALUE\u001b[0m\u001b[0;34m:\u001b[0m\u001b[0;34m\u001b[0m\u001b[0;34m\u001b[0m\u001b[0m\n\u001b[0m\u001b[1;32m      5\u001b[0m         \u001b[0;32mraise\u001b[0m \u001b[0mException\u001b[0m\u001b[0;34m(\u001b[0m\u001b[0;34m'validation check fails'\u001b[0m\u001b[0;34m)\u001b[0m\u001b[0;34m\u001b[0m\u001b[0;34m\u001b[0m\u001b[0m\n\u001b[1;32m      6\u001b[0m \u001b[0;34m\u001b[0m\u001b[0m\n",
      "\u001b[0;31mUnboundLocalError\u001b[0m: local variable 'MIN_VALUE' referenced before assignment"
     ]
    }
   ],
   "source": [
    "MIN_VALUE = 1\n",
    "MAX_VALUE = 10\n",
    "def validation_check(value):\n",
    "    if value < MIN_VALUE or value > MAX_VALUE:\n",
    "        raise Exception('validation check fails')\n",
    "        \n",
    "    MIN_VALUE += 1\n",
    "    print(value)\n",
    "\n",
    "validation_check(5)"
   ]
  },
  {
   "cell_type": "markdown",
   "metadata": {},
   "source": [
    "这是因为，Python 的解释器会默认函数内部的变量为局部变量，但是又发现局部变量 MIN_VALUE 并没有声明，因此就无法执行相关操作。所以，如果我们一定要在函数内部改变全局变量的值，就必须加上 global 这个声明"
   ]
  },
  {
   "cell_type": "code",
   "execution_count": 17,
   "metadata": {},
   "outputs": [
    {
     "name": "stdout",
     "output_type": "stream",
     "text": [
      "5\n",
      "2\n",
      "2\n"
     ]
    }
   ],
   "source": [
    "MIN_VALUE = 1\n",
    "MAX_VALUE = 10\n",
    "def validation_check(value):\n",
    "    global MIN_VALUE\n",
    "    if value < MIN_VALUE or value > MAX_VALUE:\n",
    "        raise Exception('validation check fails')\n",
    "        \n",
    "    MIN_VALUE += 1\n",
    "    print(value)\n",
    "    print(MIN_VALUE)\n",
    "\n",
    "validation_check(5)\n",
    "print(MIN_VALUE)"
   ]
  },
  {
   "cell_type": "markdown",
   "metadata": {},
   "source": [
    "这里的 global 关键字，并不表示重新创建了一个全局变量 MIN_VALUE，而是告诉 Python 解释器，函数内部的变量 MIN_VALUE，就是之前定义的全局变量，并不是新的全局变量，也不是局部变量。这样，程序就可以在函数内部访问全局变量，并修改它的值了。\n",
    "\n",
    "注意：如果遇到函数内部局部变量和全局变量同名的情况，那么在函数内部，局部变量会覆盖全局变量"
   ]
  },
  {
   "cell_type": "code",
   "execution_count": 16,
   "metadata": {},
   "outputs": [
    {
     "name": "stdout",
     "output_type": "stream",
     "text": [
      "5\n",
      "4\n",
      "1\n"
     ]
    }
   ],
   "source": [
    "MIN_VALUE = 1\n",
    "MAX_VALUE = 10\n",
    "def validation_check(value):\n",
    "    MIN_VALUE = 3\n",
    "    if value < MIN_VALUE or value > MAX_VALUE:\n",
    "        raise Exception('validation check fails')\n",
    "        \n",
    "    MIN_VALUE += 1\n",
    "    print(value)\n",
    "    print(MIN_VALUE)\n",
    "\n",
    "validation_check(5)\n",
    "print(MIN_VALUE)"
   ]
  },
  {
   "cell_type": "markdown",
   "metadata": {},
   "source": [
    "类似的，对于嵌套函数来说，内部函数可以访问外部函数定义的变量，但是无法修改，若要修改，必须加上 nonlocal 这个关键字："
   ]
  },
  {
   "cell_type": "code",
   "execution_count": 15,
   "metadata": {},
   "outputs": [
    {
     "name": "stdout",
     "output_type": "stream",
     "text": [
      "inner: nonlocal\n",
      "outer: nonlocal\n"
     ]
    }
   ],
   "source": [
    "def outer():\n",
    "    x = \"local\"\n",
    "    def inner():\n",
    "        nonlocal x # nonlocal关键字表示这里的x就是外部函数outer定义的变量x\n",
    "        x = 'nonlocal'\n",
    "        print(\"inner:\", x)\n",
    "    inner()\n",
    "    print(\"outer:\", x)\n",
    "outer()\n",
    "# 输出\n",
    "# inner: nonlocal\n",
    "# outer: nonlocal"
   ]
  },
  {
   "cell_type": "markdown",
   "metadata": {},
   "source": [
    "如果不加上 nonlocal 这个关键字，而内部函数的变量又和外部函数变量同名，那么同样的，内部函数变量会覆盖外部函数的变量"
   ]
  },
  {
   "cell_type": "code",
   "execution_count": 18,
   "metadata": {},
   "outputs": [
    {
     "name": "stdout",
     "output_type": "stream",
     "text": [
      "inner: nonlocal\n",
      "outer: local\n"
     ]
    }
   ],
   "source": [
    "def outer():\n",
    "    x = \"local\"\n",
    "    def inner():\n",
    "        x = 'nonlocal' # 这里的x是inner这个函数的局部变量\n",
    "        print(\"inner:\", x)\n",
    "    inner()\n",
    "    print(\"outer:\", x)\n",
    "outer()\n",
    "# 输出\n",
    "# inner: nonlocal\n",
    "# outer: local"
   ]
  },
  {
   "cell_type": "markdown",
   "metadata": {},
   "source": [
    "## 闭包\n",
    "\n",
    "闭包其实和刚刚讲的嵌套函数类似，不同的是，这里**外部函数返回的是一个函数**，而不是一个具体的值。返回的函数通常赋于一个变量，这个变量可以在后面被继续执行调用。\n",
    "\n"
   ]
  },
  {
   "cell_type": "code",
   "execution_count": 19,
   "metadata": {},
   "outputs": [
    {
     "name": "stdout",
     "output_type": "stream",
     "text": [
      "<function nth_power.<locals>.exponent_of at 0x10b7c89d8>\n",
      "<function nth_power.<locals>.exponent_of at 0x10b7c8488>\n",
      "4\n",
      "8\n"
     ]
    }
   ],
   "source": [
    "def nth_power(exponent):\n",
    "    def exponent_of(base):\n",
    "        return base ** exponent\n",
    "    return exponent_of # 返回值是exponent_of函数\n",
    "\n",
    "square = nth_power(2) # 计算一个数的平方\n",
    "cube = nth_power(3) # 计算一个数的立方 \n",
    "print(square)\n",
    "# 输出\n",
    "# <function __main__.nth_power.<locals>.exponent(base)>\n",
    "\n",
    "print(cube)\n",
    "# 输出\n",
    "# <function __main__.nth_power.<locals>.exponent(base)>\n",
    "\n",
    "print(square(2))  # 计算2的平方\n",
    "print(cube(2)) # 计算2的立方\n",
    "# 输出\n",
    "# 4 # 2^2\n",
    "# 8 # 2^3"
   ]
  },
  {
   "cell_type": "markdown",
   "metadata": {},
   "source": [
    "这里外部函数 nth_power() 返回值，是函数 exponent_of()，而不是一个具体的数值。需要注意的是，在执行完square = nth_power(2)和cube = nth_power(3)后，外部函数 nth_power() 的参数 exponent，仍然会被内部函数 exponent_of() 记住。\n",
    "\n",
    "好处：\n",
    "1. 使用闭包可以使一些程序变得简洁易懂，比如如果需要计算很多个数的平方，下面哪种形式更好？"
   ]
  },
  {
   "cell_type": "code",
   "execution_count": null,
   "metadata": {},
   "outputs": [],
   "source": [
    "\n",
    "# 不适用闭包\n",
    "res1 = nth_power_rewrite(base1, 2)\n",
    "res2 = nth_power_rewrite(base2, 2)\n",
    "res3 = nth_power_rewrite(base3, 2)\n",
    "...\n",
    "\n",
    "# 使用闭包\n",
    "square = nth_power(2)\n",
    "res1 = square(base1)\n",
    "res2 = square(base2)\n",
    "res3 = square(base3)\n",
    "..."
   ]
  },
  {
   "cell_type": "markdown",
   "metadata": {},
   "source": [
    "显然是第二种，是不是？首先直观来看，第二种形式，让你每次调用函数都可以少输入一个参数，表达更为简洁。\n",
    "\n",
    "2. 函数开头需要做一些额外工作，而你又需要多次调用这个函数时，将那些额外工作的代码放在外部函数，就可以减少多次调用导致的不必要的开销，提高程序的运行效率。\n",
    "\n",
    "3. 还有一点，我们后面会讲到，闭包常常和装饰器（decorator）一起使用"
   ]
  },
  {
   "cell_type": "markdown",
   "metadata": {},
   "source": [
    "## 总结\n",
    "这节课，我们一起学习了 Python 函数的概念及其应用，有这么几点你需要注意:\n",
    "1. Python 中函数的参数可以接受任意的数据类型，使用起来需要注意，必要时请在函数开头加入数据类型的检查；\n",
    "2. 和其他语言不同，Python 中函数的参数可以设定默认值；\n",
    "3. 嵌套函数的使用，能保证数据的隐私性，提高程序运行效率；\n",
    "4. 合理地使用闭包，则可以简化程序的复杂度，提高可读性。"
   ]
  },
  {
   "cell_type": "markdown",
   "metadata": {},
   "source": [
    "## 思考题\n",
    "\n",
    "实际工作中哪些使用嵌套函数和闭包呢？\n",
    "\n",
    "Aspirin：\n",
    "关于闭包，我想到一个案例，就是卷积神经网络模型的实现。我们知道，在CNN模型推理时，所有卷积层或全连接层的权重weights都是已知的、确定的，也就是说我们实例化一个模型之后，所有layer的weights都是确定好的，只需要处理不同的输入就可以了。所以，我们可以写一个闭包函数，输入不同的权重，返回使用该权重进行卷积运算的函数即可。伪代码如下：\n",
    "不使用闭包：\n",
    "```\n",
    "for img in imgs:\n",
    "    x = conv2d(img, weights1)\n",
    "    x = conv2d(x, weights2)\n",
    "...\n",
    "```\n",
    "\n",
    "使用闭包：\n",
    "\n",
    "```\n",
    "conv_layer1 = conv_layer(weights1)\n",
    "conv_layer2 = conv_layer(weights2)\n",
    "for img in imgs:\n",
    "    x = conv_layer1(img)\n",
    "    x = conv_layer2(x)\n",
    "...\n",
    "```"
   ]
  },
  {
   "cell_type": "code",
   "execution_count": null,
   "metadata": {},
   "outputs": [],
   "source": []
  }
 ],
 "metadata": {
  "kernelspec": {
   "display_name": "Python 3",
   "language": "python",
   "name": "python3"
  },
  "language_info": {
   "codemirror_mode": {
    "name": "ipython",
    "version": 3
   },
   "file_extension": ".py",
   "mimetype": "text/x-python",
   "name": "python",
   "nbconvert_exporter": "python",
   "pygments_lexer": "ipython3",
   "version": "3.6.9"
  }
 },
 "nbformat": 4,
 "nbformat_minor": 4
}
