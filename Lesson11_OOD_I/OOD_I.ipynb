{
 "cells": [
  {
   "cell_type": "markdown",
   "metadata": {},
   "source": [
    "# 11 | 面向对象（上）：从生活中的类比说起\n",
    "\n",
    "\n",
    "\n",
    "Python 是一门相对友好的语言，它在创立之初就鼓励命令交互式的轻量级编程。理论上，Python 的命令式语言是**图灵完备**的, 也就是说命令式语言，**理论上可以做到其他任何语言能够做到的所有的事情**，甚至进一步，仅仅依靠汇编语言的 MOV 指令，就能实现图灵完备编程。\n",
    "\n",
    "那么为什么不这样做呢？其实，“上古时代”的程序员就是这么做的，可是随着程序功能复杂性的逐步提升，以及需求的不断迭代，很多老旧的代码修改起来麻烦无比，<font color=red>牵一发而动全身，根本无法迭代和维护，甚至只能推倒重来</font>，这也是很多古老的代码被称为“屎山”的原因。\n",
    "\n",
    "传统的命令式语言有<font color=red>无数重复性代码</font>，虽然函数的诞生减缓了许多重复性，但随着计算机的发展，只有函数依然不够，需要把更加抽象的概念引入计算机才能缓解（而不是解决）这个问题，于是 OOP 应运而生。\n",
    "\n",
    "第一讲，我将带你快速但清晰地疏通最基础的知识，确保你能够迅速领略面向对象的基本思想；\n",
    "第二讲，我们从零开始写一个搜索引擎，将前面所学知识融会贯通。"
   ]
  },
  {
   "cell_type": "markdown",
   "metadata": {},
   "source": [
    "## 对象，你找到了吗？\n",
    "\n",
    "生活中我们也是如此，习惯对身边的事物进行分类：\n",
    "- 猫和狗都是动物；\n",
    "- 直线和圆都是平面几何的图形；\n",
    "- 《哈利波特》和《冰与火之歌》（即《权力的游戏》）都是小说。\n",
    "\n",
    "自然，同一类事物便会有着相似的特性：\n",
    "- 动物会动；\n",
    "- 平面图形有面积和周长；\n",
    "- 小说也都有相应的作者和大致情节等各种元素。"
   ]
  },
  {
   "cell_type": "markdown",
   "metadata": {},
   "source": [
    "我们先来看一段最基本的 Python 面向对象的应用代码"
   ]
  },
  {
   "cell_type": "code",
   "execution_count": 3,
   "metadata": {},
   "outputs": [
    {
     "name": "stdout",
     "output_type": "stream",
     "text": [
      "init function called\n"
     ]
    }
   ],
   "source": [
    "class Document():\n",
    "    def __init__(self, title, author, context):\n",
    "        print('init function called')\n",
    "        self.title = title\n",
    "        self.author = author \n",
    "        self.__context = context # __开头的属性是私有的\n",
    "        \n",
    "    def get_context_length(self):\n",
    "        return len(self.__context)\n",
    "    \n",
    "    def intercept_context(self, length):\n",
    "        self.__context = self.__context[:length]\n",
    "        \n",
    "harry_potter_book = Document('Harry Potter', 'J. K. Rowling', '... Forever Do not believe any thing is capable of thinking independently ...')"
   ]
  },
  {
   "cell_type": "code",
   "execution_count": 4,
   "metadata": {},
   "outputs": [
    {
     "name": "stdout",
     "output_type": "stream",
     "text": [
      "Harry Potter\n",
      "J. K. Rowling\n",
      "77\n"
     ]
    }
   ],
   "source": [
    "print(harry_potter_book.title)\n",
    "print(harry_potter_book.author)\n",
    "print(harry_potter_book.get_context_length())"
   ]
  },
  {
   "cell_type": "code",
   "execution_count": 5,
   "metadata": {},
   "outputs": [
    {
     "name": "stdout",
     "output_type": "stream",
     "text": [
      "10\n"
     ]
    },
    {
     "ename": "AttributeError",
     "evalue": "'Document' object has no attribute '__context'",
     "output_type": "error",
     "traceback": [
      "\u001b[0;31m---------------------------------------------------------------------------\u001b[0m",
      "\u001b[0;31mAttributeError\u001b[0m                            Traceback (most recent call last)",
      "\u001b[0;32m<ipython-input-5-fedc064fe221>\u001b[0m in \u001b[0;36m<module>\u001b[0;34m\u001b[0m\n\u001b[1;32m      1\u001b[0m \u001b[0mharry_potter_book\u001b[0m\u001b[0;34m.\u001b[0m\u001b[0mintercept_context\u001b[0m\u001b[0;34m(\u001b[0m\u001b[0;36m10\u001b[0m\u001b[0;34m)\u001b[0m\u001b[0;34m\u001b[0m\u001b[0;34m\u001b[0m\u001b[0m\n\u001b[1;32m      2\u001b[0m \u001b[0mprint\u001b[0m\u001b[0;34m(\u001b[0m\u001b[0mharry_potter_book\u001b[0m\u001b[0;34m.\u001b[0m\u001b[0mget_context_length\u001b[0m\u001b[0;34m(\u001b[0m\u001b[0;34m)\u001b[0m\u001b[0;34m)\u001b[0m\u001b[0;34m\u001b[0m\u001b[0;34m\u001b[0m\u001b[0m\n\u001b[0;32m----> 3\u001b[0;31m \u001b[0mprint\u001b[0m\u001b[0;34m(\u001b[0m\u001b[0mharry_potter_book\u001b[0m\u001b[0;34m.\u001b[0m\u001b[0m__context\u001b[0m\u001b[0;34m)\u001b[0m\u001b[0;34m\u001b[0m\u001b[0;34m\u001b[0m\u001b[0m\n\u001b[0m",
      "\u001b[0;31mAttributeError\u001b[0m: 'Document' object has no attribute '__context'"
     ]
    }
   ],
   "source": [
    "harry_potter_book.intercept_context(10)\n",
    "print(harry_potter_book.get_context_length())\n",
    "print(harry_potter_book.__context)"
   ]
  },
  {
   "cell_type": "markdown",
   "metadata": {},
   "source": [
    "参照着这段代码，我先来简单解释几个概念。\n",
    "- 类：一群有着相似性的事物的集合，这里对应 Python 的 class。\n",
    "- 对象：集合中的一个事物，这里对应由 class 生成的某一个 object，比如代码中的 harry_potter_book。\n",
    "- 属性：对象的某个静态特征，比如上述代码中的 title、author 和 __context。\n",
    "- 函数：对象的某个动态能力，比如上述代码中的 intercept_context () 函数。\n",
    "\n",
    "作者感悟：回想起当年参加数学竞赛时，我曾和一个大佬交流数学的学习，我清楚记得我们对数学有着相似的观点：很多数学概念非常抽象，如果纯粹从数理逻辑而不是更高的角度去解题，很容易陷入僵局；而具体、直观的想象和类比，才是迅速打开数学大门的钥匙。虽然这些想象和类比不严谨也不充分，很多时候甚至是错误或者异想天开的，但它们确实能帮我们快速找到正确的大门。\n",
    "\n",
    "就像很多人都有过的一个疑惑，“学霸是怎样想到这个答案的？”。德国数学家克莱因曾说过，“推进数学的，主要是那些有卓越直觉的人，而不是以严格的证明方法见长的人。”编程世界同样如此，如果你不满足于只做一个 CRUD“码农”，而是想成为一个优秀的工程师，那就一定要积极锻炼直觉思考和快速类比的能力，尤其是在找不到 bug 的时候。这才是编程学习中能给人最快进步的方法和路径。\n",
    "\n",
    "【<font color=blue>这正好对应了万维钢老师精英日课科学思考者的最后一讲</font>】\n",
    "\n",
    "更为严谨的定义，类，一群有着相同属性和函数的对象的集合。\n",
    "\n",
    "对照之前的代码，我们可知，class Document 定义了 Document 类，再往下能看到它有三个函数，这三个函数即为 Document 类的三个函数。\n",
    "\n",
    "1. init 表示构造函数，意即一个**对象生成时会被自动调用的函数**。我们能看到， harry_potter_book = Document(...)这一行代码被执行的时候，'init function called'字符串会被打印出来。\n",
    "\n",
    "2. get_context_length() 和 intercept_context() 则为类的普通函数，我们调用它们来对对象的属性做一些事情。\n",
    "\n",
    "3. class Document 还有三个属性，title、author 和 __context 分别表示标题、作者和内容，通过构造函数传入\n",
    "\n",
    "4. 如果一个属性以 __ （注意，此处有两个 _） 开头，我们就默认这个属性是私有属性。私有属性，是指不希望在类的函数之外的地方被访问和修改的属性。"
   ]
  },
  {
   "cell_type": "markdown",
   "metadata": {},
   "source": [
    "## 老师，能不能再给力点？\n",
    "\n",
    "在工程实践中，随着复杂度继续提升，你可能会想到一些问题：\n",
    "- 如何在一个类中定义一些常量，每个对象都可以方便访问这些常量而不用重新构造？\n",
    "- 如果一个函数不涉及到访问修改这个类的属性，而放到类外面有点不恰当，怎么做才能更优雅呢？\n",
    "- 既然类是一群相似的对象的集合，那么可不可以是一群相似的类的集合呢\n",
    "\n",
    "根据这些问题，我们更改了代码："
   ]
  },
  {
   "cell_type": "code",
   "execution_count": 6,
   "metadata": {},
   "outputs": [
    {
     "name": "stdout",
     "output_type": "stream",
     "text": [
      "init function called\n",
      "7\n",
      "Welcome! The context for this book is indeed nothing.\n"
     ]
    }
   ],
   "source": [
    "class Document():\n",
    "    \n",
    "    WELCOME_STR = 'Welcome! The context for this book is {}.'\n",
    "    \n",
    "    def __init__(self, title, author, context):\n",
    "        print('init function called')\n",
    "        self.title = title\n",
    "        self.author = author \n",
    "        self.__context = context # __开头的属性是私有的\n",
    "        \n",
    "    # 类函数\n",
    "    @classmethod \n",
    "    def create_empty_book(cls, title, author):\n",
    "        return cls(title=title, author=author, context='nothing')\n",
    "    \n",
    "    # 成员函数\n",
    "    def get_context_length(self):\n",
    "        return len(self.__context)\n",
    "    \n",
    "    # 静态函数\n",
    "    @staticmethod\n",
    "    def get_welcome(context):\n",
    "        return Document.WELCOME_STR.format(context)\n",
    "    \n",
    "    \n",
    "empty_book = Document.create_empty_book(\n",
    "    'What Every Man Thinks About Apart from Sex', 'Professor Sheridan Simove'\n",
    ")\n",
    "\n",
    "print(empty_book.get_context_length())\n",
    "print(empty_book.get_welcome('indeed nothing'))"
   ]
  },
  {
   "cell_type": "markdown",
   "metadata": {},
   "source": [
    "1. 第一个问题，在 Python 的类里，**你只需要和函数并列地声明并赋值**，就可以实现这一点，例如这段代码中的 WELCOME_STR。一种很常规的做法，是用全大写来表示常量，因此我们可以在**类中**使用 self.WELCOME_STR ，或者在**类外**使用 Entity.WELCOME_STR ，来表达这个字符串。\n",
    "\n",
    "2. 第二个问题，我们提出了类函数、成员函数和静态函数三个概念。它们其实很好理解，前两者产生的影响是动态的，**能够访问或者修改对象的属性；而静态函数则与类没有什么关联**，最明显的特征便是，静态函数的第一个参数没有任何特殊性。\n",
    "\n",
    "    - 静态函数可以用来做一些简单独立的任务，既方便测试，也能优化代码结构。静态函数还可以通过在函数前一行加上 @staticmethod 来表示，代码中也有相应的示例。这其实使用了装饰器的概念\n",
    "    - 类函数的第一个参数一般为 cls，表示必须传一个类进来。**类函数最常用的功能是实现不同的 init 构造函数**，比如上文代码中，我们使用 create_empty_book 类函数，来创造新的书籍对象，其 context 一定为 'nothing'。这样的代码，就比你直接构造要清晰一些。类似的，类函数需要装饰器 @classmethod 来声明。\n",
    "\n",
    "    - 成员函数则是我们最正常的类的函数，它不需要任何装饰器声明，第一个参数 self 代表当前对象的引用，可以通过此函数，来实现想要的查询 / 修改类的属性等功能。\n"
   ]
  },
  {
   "cell_type": "markdown",
   "metadata": {},
   "source": [
    "    \n",
    "## 继承\n",
    "\n",
    "我们来看第三个问题，既然类是一群相似的对象的集合，那么可不可以是一群相似的类的集合呢？当然可以。只要抽象得好，类可以描述成任何事物的集合。\n",
    "\n",
    "类的继承，顾名思义，指的是一个类既拥有另一个类的特征，也拥有不同于另一个类的独特特征。在这里的第一个类叫做子类，另一个叫做父类，特征其实就是类的属性和函数。"
   ]
  },
  {
   "cell_type": "code",
   "execution_count": 7,
   "metadata": {},
   "outputs": [
    {
     "name": "stdout",
     "output_type": "stream",
     "text": [
      "Document class init called\n",
      "parent class inti called\n",
      "Video class init called\n",
      "parent class inti called\n",
      "document\n",
      "video\n",
      "Harry Potter(Book)\n",
      "Harry Potter(Movie)\n",
      "77\n",
      "120\n"
     ]
    }
   ],
   "source": [
    "class Entity():\n",
    "    def __init__(self, object_type):\n",
    "        print('parent class inti called')\n",
    "        self.object_type = object_type\n",
    "        \n",
    "    def get_context_length(self):\n",
    "        # 如果子类没有定义却又调用，就返回这个错误\n",
    "        raise Exception('get_context_length not implemented')\n",
    "        \n",
    "    def print_title(self):\n",
    "        print(self.title)\n",
    "        \n",
    "class Document(Entity):\n",
    "    def __init__(self, title, author, context):\n",
    "        print('Document class init called')\n",
    "        Entity.__init__(self, 'document')\n",
    "        self.title = title \n",
    "        self.author = author \n",
    "        self.__context = context\n",
    "        \n",
    "    def get_context_length(self):\n",
    "        return len(self.__context)\n",
    "    \n",
    "class Video(Entity):\n",
    "    def __init__(self, title, author, video_length):\n",
    "        print('Video class init called')\n",
    "        # 这里继承父类的属性，并把子类的对象类别默认为video \n",
    "        Entity.__init__(self, 'video')\n",
    "        self.title = title \n",
    "        self.author = author \n",
    "        self.__video_length = video_length \n",
    "        \n",
    "    def get_context_length(self):\n",
    "        return self.__video_length\n",
    "    \n",
    "harry_potter_book = Document('Harry Potter(Book)', 'J. K. Rowling', '... Forever Do not believe any thing is capable of thinking independently ...')\n",
    "harry_potter_movie = Video('Harry Potter(Movie)', 'J. K. Rowling', 120)\n",
    "\n",
    "print(harry_potter_book.object_type)\n",
    "print(harry_potter_movie.object_type)\n",
    "\n",
    "harry_potter_book.print_title()\n",
    "harry_potter_movie.print_title()\n",
    "\n",
    "print(harry_potter_book.get_context_length())\n",
    "print(harry_potter_movie.get_context_length())"
   ]
  },
  {
   "cell_type": "markdown",
   "metadata": {},
   "source": [
    "在这段代码中，Document 和 Video 它们有相似的地方，都有相应的标题、作者和内容等属性。我们可以从中抽象出一个叫做 Entity 的类，来作为它俩的父类。\n",
    "\n",
    "- 首先需要注意的是构造函数。每个类都有构造函数，继承类在生成对象的时候，是不会自动调用父类的构造函数的，因此你必须在 init() 函数中显式调用父类的构造函数。它们的执行顺序是 子类的构造函数 -> 父类的构造函数。\n",
    "\n",
    "- 其次需要注意父类 get_context_length() 函数。如果使用 Entity 直接生成对象，调用 get_context_length() 函数，就会 raise error 中断程序的执行。这其实是一种很好的写法，叫做函数重写，可以使子类必须重新写一遍 get_context_length() 函数，来覆盖掉原有函数。\n",
    "\n",
    "- 最后需要注意到 print_title() 函数，这个函数定义在父类中，但是子类的对象可以毫无阻力地使用它来打印 title，这也就体现了继承的优势：减少重复的代码，降低系统的熵值（即复杂度）。"
   ]
  },
  {
   "cell_type": "markdown",
   "metadata": {},
   "source": [
    "## 抽象函数和抽象类"
   ]
  },
  {
   "cell_type": "code",
   "execution_count": 8,
   "metadata": {},
   "outputs": [
    {
     "ename": "NameError",
     "evalue": "name 'titel' is not defined",
     "output_type": "error",
     "traceback": [
      "\u001b[0;31m---------------------------------------------------------------------------\u001b[0m",
      "\u001b[0;31mNameError\u001b[0m                                 Traceback (most recent call last)",
      "\u001b[0;32m<ipython-input-8-3175c7632c4c>\u001b[0m in \u001b[0;36m<module>\u001b[0;34m\u001b[0m\n\u001b[1;32m     20\u001b[0m \u001b[0;34m\u001b[0m\u001b[0m\n\u001b[1;32m     21\u001b[0m \u001b[0mdocument\u001b[0m \u001b[0;34m=\u001b[0m \u001b[0mDocument\u001b[0m\u001b[0;34m(\u001b[0m\u001b[0;34m)\u001b[0m\u001b[0;34m\u001b[0m\u001b[0;34m\u001b[0m\u001b[0m\n\u001b[0;32m---> 22\u001b[0;31m \u001b[0mdocument\u001b[0m\u001b[0;34m.\u001b[0m\u001b[0mset_title\u001b[0m\u001b[0;34m(\u001b[0m\u001b[0;34m'Harry Potter'\u001b[0m\u001b[0;34m)\u001b[0m\u001b[0;34m\u001b[0m\u001b[0;34m\u001b[0m\u001b[0m\n\u001b[0m\u001b[1;32m     23\u001b[0m \u001b[0mprint\u001b[0m\u001b[0;34m(\u001b[0m\u001b[0mdocument\u001b[0m\u001b[0;34m.\u001b[0m\u001b[0mget_title\u001b[0m\u001b[0;34m(\u001b[0m\u001b[0;34m)\u001b[0m\u001b[0;34m)\u001b[0m\u001b[0;34m\u001b[0m\u001b[0;34m\u001b[0m\u001b[0m\n\u001b[1;32m     24\u001b[0m \u001b[0;34m\u001b[0m\u001b[0m\n",
      "\u001b[0;32m<ipython-input-8-3175c7632c4c>\u001b[0m in \u001b[0;36mset_title\u001b[0;34m(self, title)\u001b[0m\n\u001b[1;32m     16\u001b[0m \u001b[0;34m\u001b[0m\u001b[0m\n\u001b[1;32m     17\u001b[0m     \u001b[0;32mdef\u001b[0m \u001b[0mset_title\u001b[0m\u001b[0;34m(\u001b[0m\u001b[0mself\u001b[0m\u001b[0;34m,\u001b[0m \u001b[0mtitle\u001b[0m\u001b[0;34m)\u001b[0m\u001b[0;34m:\u001b[0m\u001b[0;34m\u001b[0m\u001b[0;34m\u001b[0m\u001b[0m\n\u001b[0;32m---> 18\u001b[0;31m         \u001b[0mself\u001b[0m\u001b[0;34m.\u001b[0m\u001b[0mtitel\u001b[0m \u001b[0;34m=\u001b[0m \u001b[0mtitel\u001b[0m\u001b[0;34m\u001b[0m\u001b[0;34m\u001b[0m\u001b[0m\n\u001b[0m\u001b[1;32m     19\u001b[0m \u001b[0;34m\u001b[0m\u001b[0m\n\u001b[1;32m     20\u001b[0m \u001b[0;34m\u001b[0m\u001b[0m\n",
      "\u001b[0;31mNameError\u001b[0m: name 'titel' is not defined"
     ]
    }
   ],
   "source": [
    "from abc import ABCMeta, abstractmethod\n",
    "\n",
    "class Entity(metaclass=ABCMeta):\n",
    "    @abstractmethod \n",
    "    def get_title(self):\n",
    "        pass \n",
    "    \n",
    "    @abstractmethod \n",
    "    def set_title(self, title):\n",
    "        pass \n",
    "    \n",
    "\n",
    "class Document(Entity):\n",
    "    def get_title(self):\n",
    "        return self.title\n",
    "    \n",
    "    def set_title(self, title):\n",
    "        self.titel = titel \n",
    "        \n",
    "        \n",
    "document = Document()\n",
    "document.set_title('Harry Potter')\n",
    "print(document.get_title())\n",
    "\n",
    "entity = Entity()"
   ]
  },
  {
   "cell_type": "markdown",
   "metadata": {},
   "source": [
    "可见，Entity本身无用，为了防止生成Entity的对象， 我们要介绍下抽象类\n",
    "\n",
    "抽象类是一种特殊的类，抽象类是一种特殊的类，它生下来就是作为父类存在的，一旦对象化就会报错。同样，抽象函数定义在抽象类之中，子类必须重写该函数才能使用。相应的抽象函数，则是使用装饰器 @abstractmethod 来表示。\n",
    "\n",
    "这其实正是软件工程中一个很重要的概念，**定义接口**。大型工程往往需要很多人合作开发，比如在 Facebook 中，\n",
    "1. 在 idea 提出之后，开发组和产品组首先会召开产品设计会，PM（Product Manager，产品经理） 写出产品需求文档，然后迭代；\n",
    "2. TL（Team Leader，项目经理）编写开发文档，开发文档中会定义不同模块的大致功能和接口、每个模块之间如何协作、单元测试和集成测试、线上灰度测试、监测和日志等等一系列开发流程。\n",
    "\n",
    "抽象类就是这么一种存在，它是一种自上而下的设计风范，你只需要用少量的代码描述清楚要做的事情，定义好接口，然后就可以交给不同开发人员去开发和对接。"
   ]
  },
  {
   "cell_type": "markdown",
   "metadata": {},
   "source": [
    "## 总结\n",
    "\n",
    "面向对象编程是软件工程中重要的思想。它不是某一种非常具体的技术，而是一种综合能力的体现，是将大型工程解耦化、模块化的重要方法。\n",
    "\n",
    "回顾一下今天的内容，我希望你能自己回答下面两个问题，作为今天内容的总结，写在留言区里。\n",
    "1. 第一个问题，面向对象编程四要素是什么？它们的关系又是什么？\n",
    "\n",
    "类，属性，函数，对象。类是一群具有相同属性和函数的对象的集合。\n",
    "\n",
    "2. 第二个问题，讲了这么久的继承，继承究竟是什么呢？你能用三个字表达出来吗？这里不开玩笑，Facebook 很多 Launch Doc （上线文档）中要求用五个单词总结你的文档，因为你的文档不仅仅是你的团队要看，往上走甚至会到 VP 或者 CTO 那里，你需要言简意赅，让他们快速理解你想要表达的意思。\n",
    "\n",
    "父与子"
   ]
  },
  {
   "cell_type": "markdown",
   "metadata": {},
   "source": [
    "## 思考题\n",
    "\n",
    "最后，再给你留一道思考题。既然你能通过继承一个类，来获得父类的函数和属性，那么你能继承两个吗？答案自是能的，这就叫做多重继承。那么问题来了。我们使用单一继承的时候，构造函数的执行顺序很好确定，即子类 -> 父类 -> 爷类 ->… 的链式关系。不过，多重继承的时候呢？比如下面这个例子。\n",
    "\n",
    "```\n",
    "\n",
    " --->B---\n",
    "A-      -->D\n",
    " --->C---\n",
    "```\n",
    "\n",
    "这种继承方式，叫做菱形继承，BC 继承了 A，然后 D 继承了 BC，创造一个 D 的对象。那么，构造函数调用顺序又是怎样的呢？"
   ]
  },
  {
   "cell_type": "markdown",
   "metadata": {},
   "source": [
    "庄小P:\n",
    "```\n",
    "class A():\n",
    "    def __init__(self):\n",
    "        print('A class called')\n",
    "\n",
    "class B(A):\n",
    "    def __init__(self):\n",
    "        print('B class called')\n",
    "        A.__init__(self)\n",
    "class C(A):\n",
    "    def __init__(self):\n",
    "        print('C class called')\n",
    "        A.__init__(self)\n",
    "class D(B,C):\n",
    "    def __init__(self):\n",
    "        print('D class called')\n",
    "        B.__init__(self)\n",
    "        C.__init__(self)\n",
    "d = D()\n",
    "####输出\n",
    "D class called\n",
    "B class called\n",
    "A class called\n",
    "C class called\n",
    "A class called\n",
    "```\n",
    "\n",
    "\n",
    "Jingxiao: 置顶 \n",
    "\n",
    "思考题答案：庄小P 同学的写法很好，非常明确的表明了菱形继承潜在的问题：一个基类的初始化函数可能被调用两次。在一般的工程中，这显然不是我们所希望的。正确的做法应该是使用 super 来召唤父类的构造函数，而且 python 使用一种叫做方法解析顺序的算法（具体实现算法叫做 C3），来保证一个类只会被初始化一次。\n",
    "```\n",
    "class A():\n",
    "    def __init__(self):\n",
    "        print('enter A')\n",
    "        print('leave A')\n",
    "\n",
    "class B(A):\n",
    "    def __init__(self):\n",
    "        print('enter B')\n",
    "        super().__init__()\n",
    "        print('leave B')\n",
    "\n",
    "class C(A):\n",
    "    def __init__(self):\n",
    "        print('enter C')\n",
    "        super().__init__()\n",
    "        print('leave C')\n",
    "\n",
    "class D(B, C):\n",
    "    def __init__(self):\n",
    "        print('enter D')\n",
    "        super().__init__()\n",
    "        print('leave D')\n",
    "\n",
    "D()\n",
    "\n",
    "enter D\n",
    "enter B\n",
    "enter C\n",
    "enter A\n",
    "leave A\n",
    "leave C\n",
    "leave B\n",
    "leave D\n",
    "```"
   ]
  },
  {
   "cell_type": "code",
   "execution_count": null,
   "metadata": {},
   "outputs": [],
   "source": []
  }
 ],
 "metadata": {
  "kernelspec": {
   "display_name": "Python 3",
   "language": "python",
   "name": "python3"
  },
  "language_info": {
   "codemirror_mode": {
    "name": "ipython",
    "version": 3
   },
   "file_extension": ".py",
   "mimetype": "text/x-python",
   "name": "python",
   "nbconvert_exporter": "python",
   "pygments_lexer": "ipython3",
   "version": "3.6.9"
  }
 },
 "nbformat": 4,
 "nbformat_minor": 4
}
