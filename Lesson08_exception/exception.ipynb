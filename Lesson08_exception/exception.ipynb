{
 "cells": [
  {
   "cell_type": "markdown",
   "metadata": {},
   "source": [
    "# 08 异常处理：如何提高程序的稳定性？"
   ]
  },
  {
   "cell_type": "markdown",
   "metadata": {},
   "source": [
    "## 错误与异常\n",
    "\n",
    "python程序中的错误至少包括两种，一种是语法错误，另一种则是异常。\n",
    "1. 语法错误：代码不符合编程规范，无法被识别和执行。"
   ]
  },
  {
   "cell_type": "code",
   "execution_count": 1,
   "metadata": {},
   "outputs": [
    {
     "ename": "SyntaxError",
     "evalue": "invalid syntax (<ipython-input-1-ecff4c38d602>, line 1)",
     "output_type": "error",
     "traceback": [
      "\u001b[0;36m  File \u001b[0;32m\"<ipython-input-1-ecff4c38d602>\"\u001b[0;36m, line \u001b[0;32m1\u001b[0m\n\u001b[0;31m    if name is not None\u001b[0m\n\u001b[0m                       ^\u001b[0m\n\u001b[0;31mSyntaxError\u001b[0m\u001b[0;31m:\u001b[0m invalid syntax\n"
     ]
    }
   ],
   "source": [
    "if name is not None\n",
    "    print(name)"
   ]
  },
  {
   "cell_type": "markdown",
   "metadata": {},
   "source": [
    "2. 异常市值程序的语法正确，可以被执行，但是执行过程中遇到了错误，抛出了异常"
   ]
  },
  {
   "cell_type": "code",
   "execution_count": 3,
   "metadata": {},
   "outputs": [
    {
     "ename": "ZeroDivisionError",
     "evalue": "division by zero",
     "output_type": "error",
     "traceback": [
      "\u001b[0;31m---------------------------------------------------------------------------\u001b[0m",
      "\u001b[0;31mZeroDivisionError\u001b[0m                         Traceback (most recent call last)",
      "\u001b[0;32m<ipython-input-3-cd759d3fcf39>\u001b[0m in \u001b[0;36m<module>\u001b[0;34m\u001b[0m\n\u001b[0;32m----> 1\u001b[0;31m \u001b[0;36m10\u001b[0m \u001b[0;34m/\u001b[0m \u001b[0;36m0\u001b[0m\u001b[0;34m\u001b[0m\u001b[0;34m\u001b[0m\u001b[0m\n\u001b[0m",
      "\u001b[0;31mZeroDivisionError\u001b[0m: division by zero"
     ]
    }
   ],
   "source": [
    "10 / 0"
   ]
  },
  {
   "cell_type": "code",
   "execution_count": 4,
   "metadata": {},
   "outputs": [
    {
     "ename": "NameError",
     "evalue": "name 'order' is not defined",
     "output_type": "error",
     "traceback": [
      "\u001b[0;31m---------------------------------------------------------------------------\u001b[0m",
      "\u001b[0;31mNameError\u001b[0m                                 Traceback (most recent call last)",
      "\u001b[0;32m<ipython-input-4-ccf9c8eca53f>\u001b[0m in \u001b[0;36m<module>\u001b[0;34m\u001b[0m\n\u001b[0;32m----> 1\u001b[0;31m \u001b[0morder\u001b[0m \u001b[0;34m*\u001b[0m \u001b[0;36m2\u001b[0m\u001b[0;34m\u001b[0m\u001b[0;34m\u001b[0m\u001b[0m\n\u001b[0m",
      "\u001b[0;31mNameError\u001b[0m: name 'order' is not defined"
     ]
    }
   ],
   "source": [
    "order * 2"
   ]
  },
  {
   "cell_type": "code",
   "execution_count": 5,
   "metadata": {},
   "outputs": [
    {
     "ename": "TypeError",
     "evalue": "unsupported operand type(s) for +: 'int' and 'list'",
     "output_type": "error",
     "traceback": [
      "\u001b[0;31m---------------------------------------------------------------------------\u001b[0m",
      "\u001b[0;31mTypeError\u001b[0m                                 Traceback (most recent call last)",
      "\u001b[0;32m<ipython-input-5-d6baaeaf777d>\u001b[0m in \u001b[0;36m<module>\u001b[0;34m\u001b[0m\n\u001b[0;32m----> 1\u001b[0;31m \u001b[0;36m1\u001b[0m \u001b[0;34m+\u001b[0m \u001b[0;34m[\u001b[0m\u001b[0;36m1\u001b[0m\u001b[0;34m,\u001b[0m \u001b[0;36m2\u001b[0m\u001b[0;34m]\u001b[0m\u001b[0;34m\u001b[0m\u001b[0;34m\u001b[0m\u001b[0m\n\u001b[0m",
      "\u001b[0;31mTypeError\u001b[0m: unsupported operand type(s) for +: 'int' and 'list'"
     ]
    }
   ],
   "source": [
    "1 + [1, 2]"
   ]
  },
  {
   "cell_type": "markdown",
   "metadata": {},
   "source": [
    "于是，当程序运行到这些地方时，就抛出了异常，并且终止运行。例子中的ZeroDivisionError、NameError和TypeError，就是三种常见的异常类型。\n",
    "\n",
    "还有其他的异常类型。\n",
    "- 比如KeyError是指字典中的键找不到；\n",
    "- FileNotFoundError是指发送了读取文件的请求，但相应的文件不存在等等\n",
    "\n",
    "可以参考文档：https://docs.python.org/3/library/exceptions.html#bltin-exceptions"
   ]
  },
  {
   "cell_type": "markdown",
   "metadata": {},
   "source": [
    "## 如何处理异常\n",
    "\n",
    "就要用try和except来做异常处理。比如："
   ]
  },
  {
   "cell_type": "code",
   "execution_count": 7,
   "metadata": {},
   "outputs": [
    {
     "name": "stdout",
     "output_type": "stream",
     "text": [
      "please enter two numbers separated by comma: a\n",
      "Value Error: invalid literal for int() with base 10: 'a'\n",
      "continue\n"
     ]
    }
   ],
   "source": [
    "try:\n",
    "    s = input('please enter two numbers separated by comma: ')\n",
    "    num1 = int(s.split(',')[0].strip())\n",
    "    num2 = int(s.split(',')[1].strip())\n",
    "    res = num1 + num2\n",
    "except ValueError as err:\n",
    "    print('Value Error: {}'.format(err))\n",
    "    \n",
    "print('continue')"
   ]
  },
  {
   "cell_type": "markdown",
   "metadata": {},
   "source": [
    "这里默认用户输入以逗号相隔的两个整形数字，将其提取后，做后续的操作（**注意 input 函数会将输入转换为字符串类型**）.由于程序抛出的异常类型是 ValueError，和 except block 所 catch 的异常类型相匹配，所以 except block 便会被执行，\n",
    "\n",
    "注意：except block 只接受与它相匹配的异常类型并执行，如果程序抛出的异常并不匹配，那么程序照样会终止并退出。\n",
    "\n",
    "刚刚这个例子，如果我们只输入1，程序抛出的异常就是IndexError: list index out of range，与 ValueError 不匹配，那么 except block 就不会被执行，程序便会终止并退出（continue 不会被打印）"
   ]
  },
  {
   "cell_type": "code",
   "execution_count": 1,
   "metadata": {},
   "outputs": [
    {
     "name": "stdout",
     "output_type": "stream",
     "text": [
      "please enter two numbers separated by comma: 1\n"
     ]
    },
    {
     "ename": "IndexError",
     "evalue": "list index out of range",
     "output_type": "error",
     "traceback": [
      "\u001b[0;31m---------------------------------------------------------------------------\u001b[0m",
      "\u001b[0;31mIndexError\u001b[0m                                Traceback (most recent call last)",
      "\u001b[0;32m<ipython-input-1-d6861f156a5a>\u001b[0m in \u001b[0;36m<module>\u001b[0;34m\u001b[0m\n\u001b[1;32m      2\u001b[0m     \u001b[0ms\u001b[0m \u001b[0;34m=\u001b[0m \u001b[0minput\u001b[0m\u001b[0;34m(\u001b[0m\u001b[0;34m'please enter two numbers separated by comma: '\u001b[0m\u001b[0;34m)\u001b[0m\u001b[0;34m\u001b[0m\u001b[0;34m\u001b[0m\u001b[0m\n\u001b[1;32m      3\u001b[0m     \u001b[0mnum1\u001b[0m \u001b[0;34m=\u001b[0m \u001b[0mint\u001b[0m\u001b[0;34m(\u001b[0m\u001b[0ms\u001b[0m\u001b[0;34m.\u001b[0m\u001b[0msplit\u001b[0m\u001b[0;34m(\u001b[0m\u001b[0;34m','\u001b[0m\u001b[0;34m)\u001b[0m\u001b[0;34m[\u001b[0m\u001b[0;36m0\u001b[0m\u001b[0;34m]\u001b[0m\u001b[0;34m.\u001b[0m\u001b[0mstrip\u001b[0m\u001b[0;34m(\u001b[0m\u001b[0;34m)\u001b[0m\u001b[0;34m)\u001b[0m\u001b[0;34m\u001b[0m\u001b[0;34m\u001b[0m\u001b[0m\n\u001b[0;32m----> 4\u001b[0;31m     \u001b[0mnum2\u001b[0m \u001b[0;34m=\u001b[0m \u001b[0mint\u001b[0m\u001b[0;34m(\u001b[0m\u001b[0ms\u001b[0m\u001b[0;34m.\u001b[0m\u001b[0msplit\u001b[0m\u001b[0;34m(\u001b[0m\u001b[0;34m','\u001b[0m\u001b[0;34m)\u001b[0m\u001b[0;34m[\u001b[0m\u001b[0;36m1\u001b[0m\u001b[0;34m]\u001b[0m\u001b[0;34m.\u001b[0m\u001b[0mstrip\u001b[0m\u001b[0;34m(\u001b[0m\u001b[0;34m)\u001b[0m\u001b[0;34m)\u001b[0m\u001b[0;34m\u001b[0m\u001b[0;34m\u001b[0m\u001b[0m\n\u001b[0m\u001b[1;32m      5\u001b[0m     \u001b[0mres\u001b[0m \u001b[0;34m=\u001b[0m \u001b[0mnum1\u001b[0m \u001b[0;34m+\u001b[0m \u001b[0mnum2\u001b[0m\u001b[0;34m\u001b[0m\u001b[0;34m\u001b[0m\u001b[0m\n\u001b[1;32m      6\u001b[0m \u001b[0;32mexcept\u001b[0m \u001b[0mValueError\u001b[0m \u001b[0;32mas\u001b[0m \u001b[0merr\u001b[0m\u001b[0;34m:\u001b[0m\u001b[0;34m\u001b[0m\u001b[0;34m\u001b[0m\u001b[0m\n",
      "\u001b[0;31mIndexError\u001b[0m: list index out of range"
     ]
    }
   ],
   "source": [
    "try:\n",
    "    s = input('please enter two numbers separated by comma: ')\n",
    "    num1 = int(s.split(',')[0].strip())\n",
    "    num2 = int(s.split(',')[1].strip())\n",
    "    res = num1 + num2\n",
    "except ValueError as err:\n",
    "    print('Value Error: {}'.format(err))\n",
    "    \n",
    "print('continue')"
   ]
  },
  {
   "cell_type": "markdown",
   "metadata": {},
   "source": [
    "显然只用一种错误类型进行检验有局限性。\n",
    "\n",
    "解决方案：\n",
    "1. 一种解决方案，是在 except block 中加入多种异常的类型"
   ]
  },
  {
   "cell_type": "code",
   "execution_count": 2,
   "metadata": {},
   "outputs": [
    {
     "name": "stdout",
     "output_type": "stream",
     "text": [
      "please enter two numbers separated by comma: 1\n",
      "Value Error: list index out of range\n",
      "continue\n"
     ]
    }
   ],
   "source": [
    "try:\n",
    "    s = input('please enter two numbers separated by comma: ')\n",
    "    num1 = int(s.split(',')[0].strip())\n",
    "    num2 = int(s.split(',')[1].strip())\n",
    "    res = num1 + num2\n",
    "except (ValueError, IndexError) as err:\n",
    "    print('Value Error: {}'.format(err))\n",
    "    \n",
    "print('continue')"
   ]
  },
  {
   "cell_type": "code",
   "execution_count": 3,
   "metadata": {},
   "outputs": [
    {
     "name": "stdout",
     "output_type": "stream",
     "text": [
      "please enter two numbers separated by comma: 1\n",
      "Index Error: list index out of range\n",
      "continue\n"
     ]
    }
   ],
   "source": [
    "# 另一种写法\n",
    "try:\n",
    "    s = input('please enter two numbers separated by comma: ')\n",
    "    num1 = int(s.split(',')[0].strip())\n",
    "    num2 = int(s.split(',')[1].strip())\n",
    "    res = num1 + num2\n",
    "except ValueError as err:\n",
    "    print('Value Error: {}'.format(err))\n",
    "except IndexError as err:\n",
    "    print('Index Error: {}'.format(err))\n",
    "\n",
    "print('continue')"
   ]
  },
  {
   "cell_type": "markdown",
   "metadata": {},
   "source": [
    "2. 很多时候，我们很难保证程序覆盖所有的异常类型，所以，更通常的做法，是在最后一个 except block，声明其处理的异常类型是 Exception。Exception 是其他所有非系统异常的基类，能够匹配任意非系统异常。"
   ]
  },
  {
   "cell_type": "code",
   "execution_count": 9,
   "metadata": {},
   "outputs": [
    {
     "name": "stdout",
     "output_type": "stream",
     "text": [
      "please enter two numbers separated by comma: 1\n",
      "Index Error: list index out of range\n",
      "continue\n"
     ]
    }
   ],
   "source": [
    "try:\n",
    "    s = input('please enter two numbers separated by comma: ')\n",
    "    num1 = int(s.split(',')[0].strip())\n",
    "    num2 = int(s.split(',')[1].strip())\n",
    "    res = num1 + num2\n",
    "except ValueError as err:\n",
    "    print('Value Error: {}'.format(err))\n",
    "except IndexError as err:\n",
    "    print('Index Error: {}'.format(err))\n",
    "except Exception as err:\n",
    "    print('Other Error: {}'.format(err))\n",
    "\n",
    "print('continue')"
   ]
  },
  {
   "cell_type": "markdown",
   "metadata": {},
   "source": [
    "或者，第二种写法，你也可以在 except 后面省略异常类型，这表示与任意异常相匹配（包括系统异常等）"
   ]
  },
  {
   "cell_type": "code",
   "execution_count": 10,
   "metadata": {},
   "outputs": [
    {
     "name": "stdout",
     "output_type": "stream",
     "text": [
      "please enter two numbers separated by comma: 1\n",
      "Index Error: list index out of range\n",
      "continue\n"
     ]
    }
   ],
   "source": [
    "try:\n",
    "    s = input('please enter two numbers separated by comma: ')\n",
    "    num1 = int(s.split(',')[0].strip())\n",
    "    num2 = int(s.split(',')[1].strip())\n",
    "    res = num1 + num2\n",
    "except ValueError as err:\n",
    "    print('Value Error: {}'.format(err))\n",
    "except IndexError as err:\n",
    "    print('Index Error: {}'.format(err))\n",
    "except:\n",
    "    print('Other error')\n",
    "\n",
    "print('continue')"
   ]
  },
  {
   "cell_type": "markdown",
   "metadata": {},
   "source": [
    "注意，当程序中存在多个 except block 时，最多只有一个 except block 会被执行。换句话说，如果多个 except 声明的异常类型都与实际相匹配，那么只有最前面的 except block 会被执行，其他则被忽略。\n",
    "\n",
    "\n",
    "### 异常处理中，还有一个很常见的用法是 finally\n",
    "\n",
    "finally经常和 try、except 放在一起来用。无论发生什么情况，finally block 中的语句都会被执行，哪怕前面的 try 和 excep block 中使用了 return 语句。**在 finally 中，我们通常会放一些无论如何都要执行的语句。**"
   ]
  },
  {
   "cell_type": "code",
   "execution_count": null,
   "metadata": {},
   "outputs": [],
   "source": [
    "import sys\n",
    "try:\n",
    "    f = open('file.txt', 'r')\n",
    "    .... # some data processing\n",
    "except OSError as err:\n",
    "    print('OS error: {}'.format(err))\n",
    "except:\n",
    "    print('Unexpected error:', sys.exc_info()[0])\n",
    "finally:\n",
    "    f.close()"
   ]
  },
  {
   "cell_type": "markdown",
   "metadata": {},
   "source": [
    "当然这里的例子如果使用with open会更为简洁"
   ]
  },
  {
   "cell_type": "markdown",
   "metadata": {},
   "source": [
    "## 用户自定义异常"
   ]
  },
  {
   "cell_type": "markdown",
   "metadata": {},
   "source": [
    "下面这个例子，我们创建了自定义的异常类型 MyInputError，定义并实现了初始化函数和 str 函数（<font color=red>直接 print 时调用</font>）"
   ]
  },
  {
   "cell_type": "code",
   "execution_count": 12,
   "metadata": {},
   "outputs": [],
   "source": [
    "class MyInputError(Exception):\n",
    "    \"\"\"\n",
    "    Exception raised when there're errors in input\n",
    "    \"\"\"\n",
    "    def __init__(self, value):\n",
    "        # 自定义异常类型的初始化\n",
    "        self.value = value\n",
    "    def __str__(self):\n",
    "        # 自定义异常类型的string表达式形式\n",
    "        # repr(): Return the canonical string representation of the object.\n",
    "        return \"{} is invalid input\".format(repr(self.value))"
   ]
  },
  {
   "cell_type": "code",
   "execution_count": 17,
   "metadata": {},
   "outputs": [
    {
     "name": "stdout",
     "output_type": "stream",
     "text": [
      "error: 1 is invalid input\n"
     ]
    }
   ],
   "source": [
    "try:\n",
    "    raise MyInputError(1)\n",
    "except MyInputError as err:\n",
    "    print('error: {}'.format(err))"
   ]
  },
  {
   "cell_type": "markdown",
   "metadata": {},
   "source": [
    "## 异常的使用场景与注意点"
   ]
  },
  {
   "cell_type": "markdown",
   "metadata": {},
   "source": [
    "1. 通常来说，在程序中，如果我们不确定某段代码能否成功执行，往往这个地方就需要使用异常处理\n",
    "\n",
    "另一例子：\n",
    "大型社交网站的后台，需要针对用户发送的请求返回相应记录。用户记录往往储存在 key-value 结构的数据库中，每次有请求过来后，我们拿到用户的 ID，并用 ID 查询数据库中此人的记录，就能返回相应的结果。\n",
    "\n",
    "数据库返回的原始数据，往往是 json string 的形式，这就需要我们首先对 json string 进行 decode（解码）"
   ]
  },
  {
   "cell_type": "code",
   "execution_count": null,
   "metadata": {},
   "outputs": [],
   "source": [
    "import json \n",
    "raw_data = queryDB(uid) # 根据用户的id，返回相应的信息\n",
    "data = json.loads(raw_data)"
   ]
  },
  {
   "cell_type": "markdown",
   "metadata": {},
   "source": [
    "这样的代码并不足够：在 json.loads() 函数中，输入的字符串如果不符合其规范，那么便无法解码，就会抛出异常，因此加上异常处理十分必要。"
   ]
  },
  {
   "cell_type": "code",
   "execution_count": null,
   "metadata": {},
   "outputs": [],
   "source": [
    "try:\n",
    "    data = json.loads(raw_data)\n",
    "    ...\n",
    "except JSONDecodeError as err:\n",
    "    print('JSONDecodeError: {}'.format(err))"
   ]
  },
  {
   "cell_type": "markdown",
   "metadata": {},
   "source": [
    "但是我们不能滥用异常处理"
   ]
  },
  {
   "cell_type": "code",
   "execution_count": 18,
   "metadata": {},
   "outputs": [
    {
     "name": "stdout",
     "output_type": "stream",
     "text": [
      "KeyError: 'dob'\n"
     ]
    }
   ],
   "source": [
    "d = {'name': 'jason', 'age': 20}\n",
    "try:\n",
    "    value = d['dob']\n",
    "    print(value)\n",
    "except KeyError as err:\n",
    "    print('KeyError: {}'.format(err))"
   ]
  },
  {
   "cell_type": "markdown",
   "metadata": {},
   "source": [
    "这段代码没有bug，但是很迷糊和冗余。因此对于flow-control(流程控制)的代码逻辑，我们一般不用异常处理"
   ]
  },
  {
   "cell_type": "code",
   "execution_count": null,
   "metadata": {},
   "outputs": [],
   "source": [
    "if 'dob' in d:\n",
    "    value = d['dob']"
   ]
  },
  {
   "cell_type": "markdown",
   "metadata": {},
   "source": [
    "以上的字典这样写就行了"
   ]
  },
  {
   "cell_type": "markdown",
   "metadata": {},
   "source": [
    "## 总结\n",
    "\n",
    "- 异常，通常是指程序运行的过程中遇到了错误，终止并退出。我们通常使用 try except 语句去处理异常，这样程序就不会被终止，仍能继续执行。\n",
    "- 处理异常时，如果有必须执行的语句，比如文件打开后必须关闭等等，则可以放在 finally block 中。\n",
    "- 异常处理，通常用在你不确定某段代码能否成功执行，也无法轻易判断的情况下，比如数据库的连接、读取等等。正常的 flow-control 逻辑，不要使用异常处理，直接用条件语句解决就可以了。"
   ]
  },
  {
   "cell_type": "markdown",
   "metadata": {},
   "source": [
    "## 思考题\n",
    "\n",
    "最后，给你留一个思考题。在异常处理时，如果 try block 中有多处抛出异常，需要我们使用多个 try except block 吗？以数据库的连接、读取为例，下面两种写法，你觉得哪种更好呢？"
   ]
  },
  {
   "cell_type": "code",
   "execution_count": null,
   "metadata": {},
   "outputs": [],
   "source": [
    "# 第一种\n",
    "try:\n",
    "    db = DB.connect('<db path>') # 可能会抛出异常\n",
    "    raw_data = DB.queryData('<viewer_id>') # 可能会抛出异常\n",
    "except (DBConnectionError, DBQueryDataError) err:\n",
    "    print('Error: {}'.format(err))"
   ]
  },
  {
   "cell_type": "code",
   "execution_count": null,
   "metadata": {},
   "outputs": [],
   "source": [
    "try:\n",
    "    db = DB.connect('<db path>') # 可能会抛出异常\n",
    "    try:\n",
    "        raw_data = DB.queryData('<viewer_id>')\n",
    "    except DBQueryDataError as err:\n",
    "         print('DB query data error: {}'.format(err))\n",
    "except DBConnectionError as err:\n",
    "     print('DB connection error: {}'.format(err))"
   ]
  },
  {
   "cell_type": "markdown",
   "metadata": {},
   "source": [
    "Hoo-Ah：\n",
    "第一种写法更加简洁，易于阅读。而且except后面的错误类型先抛出数据库连接错误，之后才抛出查询错误，实现的异常处理和第二种一样。\n",
    "\n",
    "\n",
    "作者回复: 正解"
   ]
  },
  {
   "cell_type": "code",
   "execution_count": null,
   "metadata": {},
   "outputs": [],
   "source": []
  }
 ],
 "metadata": {
  "kernelspec": {
   "display_name": "Python 3",
   "language": "python",
   "name": "python3"
  },
  "language_info": {
   "codemirror_mode": {
    "name": "ipython",
    "version": 3
   },
   "file_extension": ".py",
   "mimetype": "text/x-python",
   "name": "python",
   "nbconvert_exporter": "python",
   "pygments_lexer": "ipython3",
   "version": "3.6.9"
  }
 },
 "nbformat": 4,
 "nbformat_minor": 4
}
